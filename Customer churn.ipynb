{
 "cells": [
  {
   "cell_type": "markdown",
   "metadata": {},
   "source": [
    "\n",
    "**<font size=\"6\"> CUSTOMER CHURN PREDICTION </font>**\n"
   ]
  },
  {
   "cell_type": "markdown",
   "metadata": {},
   "source": [
    "---"
   ]
  },
  {
   "cell_type": "markdown",
   "metadata": {},
   "source": [
    "<font size=\"5\"> BUSINESS UNDERSTANDING </font>"
   ]
  },
  {
   "cell_type": "markdown",
   "metadata": {},
   "source": [
    "---"
   ]
  },
  {
   "cell_type": "markdown",
   "metadata": {},
   "source": [
    "### Problem statement "
   ]
  },
  {
   "cell_type": "markdown",
   "metadata": {},
   "source": [
    "Customer churn refers to the loss of customers over a certain period of time. Companies should be  very aware of customer churn because it directly *impacts their revenue*. When customers leave, the company loses not only their current business, but also the potential future business that the customer could have generated. Additionally, acquiring new customers is often more *expensive than retaining existing ones, so reducing churn can lead to significant cost savings*. Monitoring and reducing customer churn is therefore an important strategy for companies to maintain and grow their customer base, and ultimately, their revenue.By understanding the reasons behind customer churn and taking steps to retain customers, companies can improve their customer satisfaction, build customer loyalty, and ultimately, grow their business.\n",
    "\n",
    "> **An Example of poor customer experience that cost the company:** **Blockbuster** is an example of a company that failed to address customer churn and ultimately collapsed. **Blockbuster** was once a dominant player in the video rental industry, but as technology changed and customers increasingly sought more convenient ways to watch movies, the company failed to adapt. Competitors like **Netflix** offered online streaming, while Blockbuster stuck to its traditional brick-and-mortar model and relied on late fees to drive revenue.\n",
    "As a result, customers began leaving Blockbuster in droves, opting for more convenient and cost-effective options. Despite numerous attempts to pivot and compete with Netflix, Blockbuster was unable to stem the tide of customer churn and ultimately filed for bankruptcy in 2010. This serves as a cautionary tale for companies that ignore the importance of addressing customer churn and failing to adapt to changing market conditions."
   ]
  },
  {
   "cell_type": "markdown",
   "metadata": {},
   "source": [
    "### Main objective"
   ]
  },
  {
   "cell_type": "markdown",
   "metadata": {},
   "source": [
    "&#9677; Inline with the importance of preserving existing customers, the **main objective if this project is to come up with  a predictive model that will be able to flag customers who are likely to churn inorder to have targeted mitigating actions focused on them inorder to prevent them from churning**."
   ]
  },
  {
   "cell_type": "markdown",
   "metadata": {},
   "source": [
    "### Metric for Success "
   ]
  },
  {
   "cell_type": "markdown",
   "metadata": {},
   "source": [
    "&#9677; This project will be considered a success if **prediction accuracy of the model is above 90%** and **recall score is above 75%**"
   ]
  },
  {
   "cell_type": "markdown",
   "metadata": {},
   "source": [
    "---"
   ]
  },
  {
   "cell_type": "markdown",
   "metadata": {},
   "source": [
    "<font size=\"5\"> DATA UNDERSTANDING </font>"
   ]
  },
  {
   "cell_type": "markdown",
   "metadata": {},
   "source": [
    "---"
   ]
  },
  {
   "cell_type": "markdown",
   "metadata": {},
   "source": [
    "This dataset contains **3333 instances and 21 columns**. Columns contain different information on customers such as 'state', 'account length', 'area code', 'phone number','international plan', 'voice mail plan', 'number vmail messages','total day minutes', 'total day calls', 'total day charge','total eve minutes', 'total eve calls', 'total eve charge','total night minutes', 'total night calls', 'total night charge','total intl minutes', 'total intl calls', 'total intl charge','customer service calls', 'churn (target)'"
   ]
  },
  {
   "cell_type": "markdown",
   "metadata": {},
   "source": [
    "## Reading in the data "
   ]
  },
  {
   "cell_type": "code",
   "execution_count": 15,
   "metadata": {},
   "outputs": [],
   "source": [
    "# importing all the required libraries \n",
    "\n",
    "import pandas as pd \n",
    "import numpy as np \n",
    "import matplotlib.pyplot as plt\n",
    "%matplotlib inline\n",
    "import seaborn as sns \n",
    "from sklearn.model_selection import train_test_split\n",
    "from sklearn.preprocessing import MinMaxScaler\n",
    "from sklearn.linear_model import LogisticRegression\n",
    "from imblearn.over_sampling import SMOTE\n",
    "from sklearn.metrics import accuracy_score, f1_score, precision_score, recall_score, classification_report, confusion_matrix, auc, roc_curve \n",
    "from sklearn.ensemble import RandomForestClassifier, AdaBoostClassifier\n",
    "from sklearn.svm import SVC\n",
    "from xgboost import XGBClassifier\n",
    "from sklearn.model_selection import GridSearchCV\n",
    "from sklearn.inspection import permutation_importance\n",
    "import joblib"
   ]
  },
  {
   "cell_type": "code",
   "execution_count": 16,
   "metadata": {},
   "outputs": [
    {
     "data": {
      "text/html": [
       "<div>\n",
       "<style scoped>\n",
       "    .dataframe tbody tr th:only-of-type {\n",
       "        vertical-align: middle;\n",
       "    }\n",
       "\n",
       "    .dataframe tbody tr th {\n",
       "        vertical-align: top;\n",
       "    }\n",
       "\n",
       "    .dataframe thead th {\n",
       "        text-align: right;\n",
       "    }\n",
       "</style>\n",
       "<table border=\"1\" class=\"dataframe\">\n",
       "  <thead>\n",
       "    <tr style=\"text-align: right;\">\n",
       "      <th></th>\n",
       "      <th>state</th>\n",
       "      <th>account length</th>\n",
       "      <th>area code</th>\n",
       "      <th>phone number</th>\n",
       "      <th>international plan</th>\n",
       "      <th>voice mail plan</th>\n",
       "      <th>number vmail messages</th>\n",
       "      <th>total day minutes</th>\n",
       "      <th>total day calls</th>\n",
       "      <th>total day charge</th>\n",
       "      <th>...</th>\n",
       "      <th>total eve calls</th>\n",
       "      <th>total eve charge</th>\n",
       "      <th>total night minutes</th>\n",
       "      <th>total night calls</th>\n",
       "      <th>total night charge</th>\n",
       "      <th>total intl minutes</th>\n",
       "      <th>total intl calls</th>\n",
       "      <th>total intl charge</th>\n",
       "      <th>customer service calls</th>\n",
       "      <th>churn</th>\n",
       "    </tr>\n",
       "  </thead>\n",
       "  <tbody>\n",
       "    <tr>\n",
       "      <th>0</th>\n",
       "      <td>KS</td>\n",
       "      <td>128</td>\n",
       "      <td>415</td>\n",
       "      <td>382-4657</td>\n",
       "      <td>no</td>\n",
       "      <td>yes</td>\n",
       "      <td>25</td>\n",
       "      <td>265.1</td>\n",
       "      <td>110</td>\n",
       "      <td>45.07</td>\n",
       "      <td>...</td>\n",
       "      <td>99</td>\n",
       "      <td>16.78</td>\n",
       "      <td>244.7</td>\n",
       "      <td>91</td>\n",
       "      <td>11.01</td>\n",
       "      <td>10.0</td>\n",
       "      <td>3</td>\n",
       "      <td>2.70</td>\n",
       "      <td>1</td>\n",
       "      <td>False</td>\n",
       "    </tr>\n",
       "    <tr>\n",
       "      <th>1</th>\n",
       "      <td>OH</td>\n",
       "      <td>107</td>\n",
       "      <td>415</td>\n",
       "      <td>371-7191</td>\n",
       "      <td>no</td>\n",
       "      <td>yes</td>\n",
       "      <td>26</td>\n",
       "      <td>161.6</td>\n",
       "      <td>123</td>\n",
       "      <td>27.47</td>\n",
       "      <td>...</td>\n",
       "      <td>103</td>\n",
       "      <td>16.62</td>\n",
       "      <td>254.4</td>\n",
       "      <td>103</td>\n",
       "      <td>11.45</td>\n",
       "      <td>13.7</td>\n",
       "      <td>3</td>\n",
       "      <td>3.70</td>\n",
       "      <td>1</td>\n",
       "      <td>False</td>\n",
       "    </tr>\n",
       "    <tr>\n",
       "      <th>2</th>\n",
       "      <td>NJ</td>\n",
       "      <td>137</td>\n",
       "      <td>415</td>\n",
       "      <td>358-1921</td>\n",
       "      <td>no</td>\n",
       "      <td>no</td>\n",
       "      <td>0</td>\n",
       "      <td>243.4</td>\n",
       "      <td>114</td>\n",
       "      <td>41.38</td>\n",
       "      <td>...</td>\n",
       "      <td>110</td>\n",
       "      <td>10.30</td>\n",
       "      <td>162.6</td>\n",
       "      <td>104</td>\n",
       "      <td>7.32</td>\n",
       "      <td>12.2</td>\n",
       "      <td>5</td>\n",
       "      <td>3.29</td>\n",
       "      <td>0</td>\n",
       "      <td>False</td>\n",
       "    </tr>\n",
       "    <tr>\n",
       "      <th>3</th>\n",
       "      <td>OH</td>\n",
       "      <td>84</td>\n",
       "      <td>408</td>\n",
       "      <td>375-9999</td>\n",
       "      <td>yes</td>\n",
       "      <td>no</td>\n",
       "      <td>0</td>\n",
       "      <td>299.4</td>\n",
       "      <td>71</td>\n",
       "      <td>50.90</td>\n",
       "      <td>...</td>\n",
       "      <td>88</td>\n",
       "      <td>5.26</td>\n",
       "      <td>196.9</td>\n",
       "      <td>89</td>\n",
       "      <td>8.86</td>\n",
       "      <td>6.6</td>\n",
       "      <td>7</td>\n",
       "      <td>1.78</td>\n",
       "      <td>2</td>\n",
       "      <td>False</td>\n",
       "    </tr>\n",
       "    <tr>\n",
       "      <th>4</th>\n",
       "      <td>OK</td>\n",
       "      <td>75</td>\n",
       "      <td>415</td>\n",
       "      <td>330-6626</td>\n",
       "      <td>yes</td>\n",
       "      <td>no</td>\n",
       "      <td>0</td>\n",
       "      <td>166.7</td>\n",
       "      <td>113</td>\n",
       "      <td>28.34</td>\n",
       "      <td>...</td>\n",
       "      <td>122</td>\n",
       "      <td>12.61</td>\n",
       "      <td>186.9</td>\n",
       "      <td>121</td>\n",
       "      <td>8.41</td>\n",
       "      <td>10.1</td>\n",
       "      <td>3</td>\n",
       "      <td>2.73</td>\n",
       "      <td>3</td>\n",
       "      <td>False</td>\n",
       "    </tr>\n",
       "  </tbody>\n",
       "</table>\n",
       "<p>5 rows × 21 columns</p>\n",
       "</div>"
      ],
      "text/plain": [
       "  state  account length  area code phone number international plan  \\\n",
       "0    KS             128        415     382-4657                 no   \n",
       "1    OH             107        415     371-7191                 no   \n",
       "2    NJ             137        415     358-1921                 no   \n",
       "3    OH              84        408     375-9999                yes   \n",
       "4    OK              75        415     330-6626                yes   \n",
       "\n",
       "  voice mail plan  number vmail messages  total day minutes  total day calls  \\\n",
       "0             yes                     25              265.1              110   \n",
       "1             yes                     26              161.6              123   \n",
       "2              no                      0              243.4              114   \n",
       "3              no                      0              299.4               71   \n",
       "4              no                      0              166.7              113   \n",
       "\n",
       "   total day charge  ...  total eve calls  total eve charge  \\\n",
       "0             45.07  ...               99             16.78   \n",
       "1             27.47  ...              103             16.62   \n",
       "2             41.38  ...              110             10.30   \n",
       "3             50.90  ...               88              5.26   \n",
       "4             28.34  ...              122             12.61   \n",
       "\n",
       "   total night minutes  total night calls  total night charge  \\\n",
       "0                244.7                 91               11.01   \n",
       "1                254.4                103               11.45   \n",
       "2                162.6                104                7.32   \n",
       "3                196.9                 89                8.86   \n",
       "4                186.9                121                8.41   \n",
       "\n",
       "   total intl minutes  total intl calls  total intl charge  \\\n",
       "0                10.0                 3               2.70   \n",
       "1                13.7                 3               3.70   \n",
       "2                12.2                 5               3.29   \n",
       "3                 6.6                 7               1.78   \n",
       "4                10.1                 3               2.73   \n",
       "\n",
       "   customer service calls  churn  \n",
       "0                       1  False  \n",
       "1                       1  False  \n",
       "2                       0  False  \n",
       "3                       2  False  \n",
       "4                       3  False  \n",
       "\n",
       "[5 rows x 21 columns]"
      ]
     },
     "execution_count": 16,
     "metadata": {},
     "output_type": "execute_result"
    }
   ],
   "source": [
    "# reading in the dataset and previewing the first five rows \n",
    "\n",
    "df = pd.read_csv('bigml_59c28831336c6604c800002a.csv')\n",
    "df.head()"
   ]
  },
  {
   "cell_type": "code",
   "execution_count": 17,
   "metadata": {},
   "outputs": [
    {
     "data": {
      "text/html": [
       "<div>\n",
       "<style scoped>\n",
       "    .dataframe tbody tr th:only-of-type {\n",
       "        vertical-align: middle;\n",
       "    }\n",
       "\n",
       "    .dataframe tbody tr th {\n",
       "        vertical-align: top;\n",
       "    }\n",
       "\n",
       "    .dataframe thead th {\n",
       "        text-align: right;\n",
       "    }\n",
       "</style>\n",
       "<table border=\"1\" class=\"dataframe\">\n",
       "  <thead>\n",
       "    <tr style=\"text-align: right;\">\n",
       "      <th></th>\n",
       "      <th>state</th>\n",
       "      <th>account length</th>\n",
       "      <th>area code</th>\n",
       "      <th>phone number</th>\n",
       "      <th>international plan</th>\n",
       "      <th>voice mail plan</th>\n",
       "      <th>number vmail messages</th>\n",
       "      <th>total day minutes</th>\n",
       "      <th>total day calls</th>\n",
       "      <th>total day charge</th>\n",
       "      <th>...</th>\n",
       "      <th>total eve calls</th>\n",
       "      <th>total eve charge</th>\n",
       "      <th>total night minutes</th>\n",
       "      <th>total night calls</th>\n",
       "      <th>total night charge</th>\n",
       "      <th>total intl minutes</th>\n",
       "      <th>total intl calls</th>\n",
       "      <th>total intl charge</th>\n",
       "      <th>customer service calls</th>\n",
       "      <th>churn</th>\n",
       "    </tr>\n",
       "  </thead>\n",
       "  <tbody>\n",
       "    <tr>\n",
       "      <th>3328</th>\n",
       "      <td>AZ</td>\n",
       "      <td>192</td>\n",
       "      <td>415</td>\n",
       "      <td>414-4276</td>\n",
       "      <td>no</td>\n",
       "      <td>yes</td>\n",
       "      <td>36</td>\n",
       "      <td>156.2</td>\n",
       "      <td>77</td>\n",
       "      <td>26.55</td>\n",
       "      <td>...</td>\n",
       "      <td>126</td>\n",
       "      <td>18.32</td>\n",
       "      <td>279.1</td>\n",
       "      <td>83</td>\n",
       "      <td>12.56</td>\n",
       "      <td>9.9</td>\n",
       "      <td>6</td>\n",
       "      <td>2.67</td>\n",
       "      <td>2</td>\n",
       "      <td>False</td>\n",
       "    </tr>\n",
       "    <tr>\n",
       "      <th>3329</th>\n",
       "      <td>WV</td>\n",
       "      <td>68</td>\n",
       "      <td>415</td>\n",
       "      <td>370-3271</td>\n",
       "      <td>no</td>\n",
       "      <td>no</td>\n",
       "      <td>0</td>\n",
       "      <td>231.1</td>\n",
       "      <td>57</td>\n",
       "      <td>39.29</td>\n",
       "      <td>...</td>\n",
       "      <td>55</td>\n",
       "      <td>13.04</td>\n",
       "      <td>191.3</td>\n",
       "      <td>123</td>\n",
       "      <td>8.61</td>\n",
       "      <td>9.6</td>\n",
       "      <td>4</td>\n",
       "      <td>2.59</td>\n",
       "      <td>3</td>\n",
       "      <td>False</td>\n",
       "    </tr>\n",
       "    <tr>\n",
       "      <th>3330</th>\n",
       "      <td>RI</td>\n",
       "      <td>28</td>\n",
       "      <td>510</td>\n",
       "      <td>328-8230</td>\n",
       "      <td>no</td>\n",
       "      <td>no</td>\n",
       "      <td>0</td>\n",
       "      <td>180.8</td>\n",
       "      <td>109</td>\n",
       "      <td>30.74</td>\n",
       "      <td>...</td>\n",
       "      <td>58</td>\n",
       "      <td>24.55</td>\n",
       "      <td>191.9</td>\n",
       "      <td>91</td>\n",
       "      <td>8.64</td>\n",
       "      <td>14.1</td>\n",
       "      <td>6</td>\n",
       "      <td>3.81</td>\n",
       "      <td>2</td>\n",
       "      <td>False</td>\n",
       "    </tr>\n",
       "    <tr>\n",
       "      <th>3331</th>\n",
       "      <td>CT</td>\n",
       "      <td>184</td>\n",
       "      <td>510</td>\n",
       "      <td>364-6381</td>\n",
       "      <td>yes</td>\n",
       "      <td>no</td>\n",
       "      <td>0</td>\n",
       "      <td>213.8</td>\n",
       "      <td>105</td>\n",
       "      <td>36.35</td>\n",
       "      <td>...</td>\n",
       "      <td>84</td>\n",
       "      <td>13.57</td>\n",
       "      <td>139.2</td>\n",
       "      <td>137</td>\n",
       "      <td>6.26</td>\n",
       "      <td>5.0</td>\n",
       "      <td>10</td>\n",
       "      <td>1.35</td>\n",
       "      <td>2</td>\n",
       "      <td>False</td>\n",
       "    </tr>\n",
       "    <tr>\n",
       "      <th>3332</th>\n",
       "      <td>TN</td>\n",
       "      <td>74</td>\n",
       "      <td>415</td>\n",
       "      <td>400-4344</td>\n",
       "      <td>no</td>\n",
       "      <td>yes</td>\n",
       "      <td>25</td>\n",
       "      <td>234.4</td>\n",
       "      <td>113</td>\n",
       "      <td>39.85</td>\n",
       "      <td>...</td>\n",
       "      <td>82</td>\n",
       "      <td>22.60</td>\n",
       "      <td>241.4</td>\n",
       "      <td>77</td>\n",
       "      <td>10.86</td>\n",
       "      <td>13.7</td>\n",
       "      <td>4</td>\n",
       "      <td>3.70</td>\n",
       "      <td>0</td>\n",
       "      <td>False</td>\n",
       "    </tr>\n",
       "  </tbody>\n",
       "</table>\n",
       "<p>5 rows × 21 columns</p>\n",
       "</div>"
      ],
      "text/plain": [
       "     state  account length  area code phone number international plan  \\\n",
       "3328    AZ             192        415     414-4276                 no   \n",
       "3329    WV              68        415     370-3271                 no   \n",
       "3330    RI              28        510     328-8230                 no   \n",
       "3331    CT             184        510     364-6381                yes   \n",
       "3332    TN              74        415     400-4344                 no   \n",
       "\n",
       "     voice mail plan  number vmail messages  total day minutes  \\\n",
       "3328             yes                     36              156.2   \n",
       "3329              no                      0              231.1   \n",
       "3330              no                      0              180.8   \n",
       "3331              no                      0              213.8   \n",
       "3332             yes                     25              234.4   \n",
       "\n",
       "      total day calls  total day charge  ...  total eve calls  \\\n",
       "3328               77             26.55  ...              126   \n",
       "3329               57             39.29  ...               55   \n",
       "3330              109             30.74  ...               58   \n",
       "3331              105             36.35  ...               84   \n",
       "3332              113             39.85  ...               82   \n",
       "\n",
       "      total eve charge  total night minutes  total night calls  \\\n",
       "3328             18.32                279.1                 83   \n",
       "3329             13.04                191.3                123   \n",
       "3330             24.55                191.9                 91   \n",
       "3331             13.57                139.2                137   \n",
       "3332             22.60                241.4                 77   \n",
       "\n",
       "      total night charge  total intl minutes  total intl calls  \\\n",
       "3328               12.56                 9.9                 6   \n",
       "3329                8.61                 9.6                 4   \n",
       "3330                8.64                14.1                 6   \n",
       "3331                6.26                 5.0                10   \n",
       "3332               10.86                13.7                 4   \n",
       "\n",
       "      total intl charge  customer service calls  churn  \n",
       "3328               2.67                       2  False  \n",
       "3329               2.59                       3  False  \n",
       "3330               3.81                       2  False  \n",
       "3331               1.35                       2  False  \n",
       "3332               3.70                       0  False  \n",
       "\n",
       "[5 rows x 21 columns]"
      ]
     },
     "execution_count": 17,
     "metadata": {},
     "output_type": "execute_result"
    }
   ],
   "source": [
    "# Previewing the last five rows of the dataset \n",
    "\n",
    "df.tail()"
   ]
  },
  {
   "cell_type": "code",
   "execution_count": 18,
   "metadata": {},
   "outputs": [
    {
     "data": {
      "text/plain": [
       "(3333, 21)"
      ]
     },
     "execution_count": 18,
     "metadata": {},
     "output_type": "execute_result"
    }
   ],
   "source": [
    "# checking the dimensions of the dataset \n",
    "\n",
    "df.shape"
   ]
  },
  {
   "cell_type": "markdown",
   "metadata": {},
   "source": [
    "## Data cleaning and wrangling "
   ]
  },
  {
   "cell_type": "markdown",
   "metadata": {},
   "source": [
    "Data wrangling and cleaning is an important step in data science because it is the process of transforming raw, untidy data into a structured and usable format for analysis. The raw data that is collected from various sources is often messy and contains errors, inconsistencies, and missing values, which can compromise the accuracy of results and lead to incorrect insights. Data wrangling and cleaning helps to identify and correct these issues, ensuring that the data is high-quality and reliable. This in turn helps to ensure that the data is ready for analysis, visualization, and modeling, leading to more accurate and trustworthy results. \n",
    "In this section, emphasis will be given to :\n",
    "\n",
    " &#9677; Checking and Dealing with missing values \n",
    " \n",
    " \n",
    " &#9677; Checking for and Dealing with duplicated values \n",
    " \n",
    " \n",
    " &#9677; Checking if dataset has appropriate(expected) data types for each of the columns \n",
    "    \n",
    "   \n",
    " &#9677; Checking dealing with outliers \n",
    "    "
   ]
  },
  {
   "cell_type": "code",
   "execution_count": 19,
   "metadata": {},
   "outputs": [],
   "source": [
    "# making a copy of the dataset\n",
    "\n",
    "df_copy = df.copy()"
   ]
  },
  {
   "cell_type": "code",
   "execution_count": 20,
   "metadata": {},
   "outputs": [
    {
     "data": {
      "text/plain": [
       "state                     0\n",
       "account length            0\n",
       "area code                 0\n",
       "phone number              0\n",
       "international plan        0\n",
       "voice mail plan           0\n",
       "number vmail messages     0\n",
       "total day minutes         0\n",
       "total day calls           0\n",
       "total day charge          0\n",
       "total eve minutes         0\n",
       "total eve calls           0\n",
       "total eve charge          0\n",
       "total night minutes       0\n",
       "total night calls         0\n",
       "total night charge        0\n",
       "total intl minutes        0\n",
       "total intl calls          0\n",
       "total intl charge         0\n",
       "customer service calls    0\n",
       "churn                     0\n",
       "dtype: int64"
      ]
     },
     "execution_count": 20,
     "metadata": {},
     "output_type": "execute_result"
    }
   ],
   "source": [
    "# checking for any missing values \n",
    "\n",
    "df_copy.isna().sum()"
   ]
  },
  {
   "cell_type": "markdown",
   "metadata": {},
   "source": [
    "The dataset **does not have any missing values** for any of the columns "
   ]
  },
  {
   "cell_type": "code",
   "execution_count": 21,
   "metadata": {},
   "outputs": [
    {
     "data": {
      "text/plain": [
       "0"
      ]
     },
     "execution_count": 21,
     "metadata": {},
     "output_type": "execute_result"
    }
   ],
   "source": [
    "# Checking if the dataset has duplicated values\n",
    "\n",
    "df_copy.duplicated().sum()"
   ]
  },
  {
   "cell_type": "markdown",
   "metadata": {},
   "source": [
    "Yet again, the dataset **does not contain any duplicates**"
   ]
  },
  {
   "cell_type": "code",
   "execution_count": 22,
   "metadata": {},
   "outputs": [
    {
     "name": "stdout",
     "output_type": "stream",
     "text": [
      "<class 'pandas.core.frame.DataFrame'>\n",
      "RangeIndex: 3333 entries, 0 to 3332\n",
      "Data columns (total 21 columns):\n",
      " #   Column                  Non-Null Count  Dtype  \n",
      "---  ------                  --------------  -----  \n",
      " 0   state                   3333 non-null   object \n",
      " 1   account length          3333 non-null   int64  \n",
      " 2   area code               3333 non-null   int64  \n",
      " 3   phone number            3333 non-null   object \n",
      " 4   international plan      3333 non-null   object \n",
      " 5   voice mail plan         3333 non-null   object \n",
      " 6   number vmail messages   3333 non-null   int64  \n",
      " 7   total day minutes       3333 non-null   float64\n",
      " 8   total day calls         3333 non-null   int64  \n",
      " 9   total day charge        3333 non-null   float64\n",
      " 10  total eve minutes       3333 non-null   float64\n",
      " 11  total eve calls         3333 non-null   int64  \n",
      " 12  total eve charge        3333 non-null   float64\n",
      " 13  total night minutes     3333 non-null   float64\n",
      " 14  total night calls       3333 non-null   int64  \n",
      " 15  total night charge      3333 non-null   float64\n",
      " 16  total intl minutes      3333 non-null   float64\n",
      " 17  total intl calls        3333 non-null   int64  \n",
      " 18  total intl charge       3333 non-null   float64\n",
      " 19  customer service calls  3333 non-null   int64  \n",
      " 20  churn                   3333 non-null   bool   \n",
      "dtypes: bool(1), float64(8), int64(8), object(4)\n",
      "memory usage: 524.2+ KB\n"
     ]
    }
   ],
   "source": [
    "# checking of columns have the expected data types \n",
    "\n",
    "df_copy.info()"
   ]
  },
  {
   "cell_type": "markdown",
   "metadata": {},
   "source": [
    "All other data types expect the column `area code` have the expected data types. The column `area code` needs to be converted to 'object type'"
   ]
  },
  {
   "cell_type": "code",
   "execution_count": 23,
   "metadata": {},
   "outputs": [],
   "source": [
    "# creating a new column cat_area_code as an object\n",
    "\n",
    "df_copy['cat_area_code'] = df_copy['area code'].astype('object')"
   ]
  },
  {
   "cell_type": "markdown",
   "metadata": {},
   "source": [
    "Additionally, we will recode the `state` column into different `region` such as west, southwest, midwest, southeast and northeast. This is because having few categories in can help simplify the data and reduce the number of dimensions in the one-hot encoding, making it easier to work with. This can also help **avoid overfitting, as having too many dimensions in the one-hot encoding can lead to overfitting on the training data as the model with fit to noise** as there will be way too many categories. "
   ]
  },
  {
   "cell_type": "code",
   "execution_count": 24,
   "metadata": {},
   "outputs": [],
   "source": [
    "# creating a dictionary with the different states recoded into different regions\n",
    "\n",
    "regions = {'WA': 'West', 'CA': 'West', 'OR': 'West', 'MT': 'West', 'ID': 'West', 'WY': 'West', 'UT': 'West', 'CO': 'West', 'AK': 'West', 'HI': 'West', 'NV':'West',\n",
    "           'AZ': 'Southwest', 'NM': 'Southwest', 'OK': 'Southwest', 'TX': 'Southwest',\n",
    "           'ND': 'Midwest', 'MN': 'Midwest', 'SD': 'Midwest', 'NE': 'Midwest', 'KS': 'Midwest', 'IA': 'Midwest', 'MO': 'Midwest', 'IL': 'Midwest', 'IN': 'Midwest', 'OH': 'Midwest', 'WI': 'Midwest', 'MI': 'Midwest',\n",
    "           'AR': 'Southeast', 'LA': 'Southeast', 'MS': 'Southeast', 'AL': 'Southeast', 'GA': 'Southeast', 'SC': 'Southeast', 'FL': 'Southeast', 'NC': 'Southeast', 'VA': 'Southeast', 'DC': 'Southeast', 'KY': 'Southeast', 'WV': 'Southeast', 'TN': 'Southeast',\n",
    "           'PA': 'Northeast', 'NY': 'Northeast', 'VT': 'Northeast', 'NH': 'Northeast', 'ME': 'Northeast', 'MA': 'Northeast', 'CT': 'Northeast', 'RI': 'Northeast', 'DE': 'Northeast', 'MD': 'Northeast', 'NJ': 'Northeast'}"
   ]
  },
  {
   "cell_type": "code",
   "execution_count": 25,
   "metadata": {},
   "outputs": [
    {
     "data": {
      "text/html": [
       "<div>\n",
       "<style scoped>\n",
       "    .dataframe tbody tr th:only-of-type {\n",
       "        vertical-align: middle;\n",
       "    }\n",
       "\n",
       "    .dataframe tbody tr th {\n",
       "        vertical-align: top;\n",
       "    }\n",
       "\n",
       "    .dataframe thead th {\n",
       "        text-align: right;\n",
       "    }\n",
       "</style>\n",
       "<table border=\"1\" class=\"dataframe\">\n",
       "  <thead>\n",
       "    <tr style=\"text-align: right;\">\n",
       "      <th></th>\n",
       "      <th>state</th>\n",
       "      <th>account length</th>\n",
       "      <th>area code</th>\n",
       "      <th>phone number</th>\n",
       "      <th>international plan</th>\n",
       "      <th>voice mail plan</th>\n",
       "      <th>number vmail messages</th>\n",
       "      <th>total day minutes</th>\n",
       "      <th>total day calls</th>\n",
       "      <th>total day charge</th>\n",
       "      <th>...</th>\n",
       "      <th>total night minutes</th>\n",
       "      <th>total night calls</th>\n",
       "      <th>total night charge</th>\n",
       "      <th>total intl minutes</th>\n",
       "      <th>total intl calls</th>\n",
       "      <th>total intl charge</th>\n",
       "      <th>customer service calls</th>\n",
       "      <th>churn</th>\n",
       "      <th>cat_area_code</th>\n",
       "      <th>region</th>\n",
       "    </tr>\n",
       "  </thead>\n",
       "  <tbody>\n",
       "    <tr>\n",
       "      <th>0</th>\n",
       "      <td>KS</td>\n",
       "      <td>128</td>\n",
       "      <td>415</td>\n",
       "      <td>382-4657</td>\n",
       "      <td>no</td>\n",
       "      <td>yes</td>\n",
       "      <td>25</td>\n",
       "      <td>265.1</td>\n",
       "      <td>110</td>\n",
       "      <td>45.07</td>\n",
       "      <td>...</td>\n",
       "      <td>244.7</td>\n",
       "      <td>91</td>\n",
       "      <td>11.01</td>\n",
       "      <td>10.0</td>\n",
       "      <td>3</td>\n",
       "      <td>2.70</td>\n",
       "      <td>1</td>\n",
       "      <td>False</td>\n",
       "      <td>415</td>\n",
       "      <td>Midwest</td>\n",
       "    </tr>\n",
       "    <tr>\n",
       "      <th>1</th>\n",
       "      <td>OH</td>\n",
       "      <td>107</td>\n",
       "      <td>415</td>\n",
       "      <td>371-7191</td>\n",
       "      <td>no</td>\n",
       "      <td>yes</td>\n",
       "      <td>26</td>\n",
       "      <td>161.6</td>\n",
       "      <td>123</td>\n",
       "      <td>27.47</td>\n",
       "      <td>...</td>\n",
       "      <td>254.4</td>\n",
       "      <td>103</td>\n",
       "      <td>11.45</td>\n",
       "      <td>13.7</td>\n",
       "      <td>3</td>\n",
       "      <td>3.70</td>\n",
       "      <td>1</td>\n",
       "      <td>False</td>\n",
       "      <td>415</td>\n",
       "      <td>Midwest</td>\n",
       "    </tr>\n",
       "    <tr>\n",
       "      <th>2</th>\n",
       "      <td>NJ</td>\n",
       "      <td>137</td>\n",
       "      <td>415</td>\n",
       "      <td>358-1921</td>\n",
       "      <td>no</td>\n",
       "      <td>no</td>\n",
       "      <td>0</td>\n",
       "      <td>243.4</td>\n",
       "      <td>114</td>\n",
       "      <td>41.38</td>\n",
       "      <td>...</td>\n",
       "      <td>162.6</td>\n",
       "      <td>104</td>\n",
       "      <td>7.32</td>\n",
       "      <td>12.2</td>\n",
       "      <td>5</td>\n",
       "      <td>3.29</td>\n",
       "      <td>0</td>\n",
       "      <td>False</td>\n",
       "      <td>415</td>\n",
       "      <td>Northeast</td>\n",
       "    </tr>\n",
       "    <tr>\n",
       "      <th>3</th>\n",
       "      <td>OH</td>\n",
       "      <td>84</td>\n",
       "      <td>408</td>\n",
       "      <td>375-9999</td>\n",
       "      <td>yes</td>\n",
       "      <td>no</td>\n",
       "      <td>0</td>\n",
       "      <td>299.4</td>\n",
       "      <td>71</td>\n",
       "      <td>50.90</td>\n",
       "      <td>...</td>\n",
       "      <td>196.9</td>\n",
       "      <td>89</td>\n",
       "      <td>8.86</td>\n",
       "      <td>6.6</td>\n",
       "      <td>7</td>\n",
       "      <td>1.78</td>\n",
       "      <td>2</td>\n",
       "      <td>False</td>\n",
       "      <td>408</td>\n",
       "      <td>Midwest</td>\n",
       "    </tr>\n",
       "    <tr>\n",
       "      <th>4</th>\n",
       "      <td>OK</td>\n",
       "      <td>75</td>\n",
       "      <td>415</td>\n",
       "      <td>330-6626</td>\n",
       "      <td>yes</td>\n",
       "      <td>no</td>\n",
       "      <td>0</td>\n",
       "      <td>166.7</td>\n",
       "      <td>113</td>\n",
       "      <td>28.34</td>\n",
       "      <td>...</td>\n",
       "      <td>186.9</td>\n",
       "      <td>121</td>\n",
       "      <td>8.41</td>\n",
       "      <td>10.1</td>\n",
       "      <td>3</td>\n",
       "      <td>2.73</td>\n",
       "      <td>3</td>\n",
       "      <td>False</td>\n",
       "      <td>415</td>\n",
       "      <td>Southwest</td>\n",
       "    </tr>\n",
       "  </tbody>\n",
       "</table>\n",
       "<p>5 rows × 23 columns</p>\n",
       "</div>"
      ],
      "text/plain": [
       "  state  account length  area code phone number international plan  \\\n",
       "0    KS             128        415     382-4657                 no   \n",
       "1    OH             107        415     371-7191                 no   \n",
       "2    NJ             137        415     358-1921                 no   \n",
       "3    OH              84        408     375-9999                yes   \n",
       "4    OK              75        415     330-6626                yes   \n",
       "\n",
       "  voice mail plan  number vmail messages  total day minutes  total day calls  \\\n",
       "0             yes                     25              265.1              110   \n",
       "1             yes                     26              161.6              123   \n",
       "2              no                      0              243.4              114   \n",
       "3              no                      0              299.4               71   \n",
       "4              no                      0              166.7              113   \n",
       "\n",
       "   total day charge  ...  total night minutes  total night calls  \\\n",
       "0             45.07  ...                244.7                 91   \n",
       "1             27.47  ...                254.4                103   \n",
       "2             41.38  ...                162.6                104   \n",
       "3             50.90  ...                196.9                 89   \n",
       "4             28.34  ...                186.9                121   \n",
       "\n",
       "   total night charge  total intl minutes  total intl calls  \\\n",
       "0               11.01                10.0                 3   \n",
       "1               11.45                13.7                 3   \n",
       "2                7.32                12.2                 5   \n",
       "3                8.86                 6.6                 7   \n",
       "4                8.41                10.1                 3   \n",
       "\n",
       "   total intl charge  customer service calls  churn  cat_area_code     region  \n",
       "0               2.70                       1  False            415    Midwest  \n",
       "1               3.70                       1  False            415    Midwest  \n",
       "2               3.29                       0  False            415  Northeast  \n",
       "3               1.78                       2  False            408    Midwest  \n",
       "4               2.73                       3  False            415  Southwest  \n",
       "\n",
       "[5 rows x 23 columns]"
      ]
     },
     "execution_count": 25,
     "metadata": {},
     "output_type": "execute_result"
    }
   ],
   "source": [
    "# mapping state to the region dictionary and confirming the new column created \n",
    "\n",
    "df_copy['region'] = df_copy['state'].map(regions)\n",
    "\n",
    "df_copy.head()"
   ]
  },
  {
   "cell_type": "markdown",
   "metadata": {},
   "source": [
    "The following columns will be **dropped `state` and `area code` ( as we have already created useful columns from them)**"
   ]
  },
  {
   "cell_type": "code",
   "execution_count": 26,
   "metadata": {},
   "outputs": [],
   "source": [
    "df_copy.drop(['state','area code'], axis=1, inplace= True)"
   ]
  },
  {
   "cell_type": "code",
   "execution_count": 27,
   "metadata": {},
   "outputs": [
    {
     "data": {
      "text/html": [
       "<div>\n",
       "<style scoped>\n",
       "    .dataframe tbody tr th:only-of-type {\n",
       "        vertical-align: middle;\n",
       "    }\n",
       "\n",
       "    .dataframe tbody tr th {\n",
       "        vertical-align: top;\n",
       "    }\n",
       "\n",
       "    .dataframe thead th {\n",
       "        text-align: right;\n",
       "    }\n",
       "</style>\n",
       "<table border=\"1\" class=\"dataframe\">\n",
       "  <thead>\n",
       "    <tr style=\"text-align: right;\">\n",
       "      <th></th>\n",
       "      <th>account length</th>\n",
       "      <th>phone number</th>\n",
       "      <th>international plan</th>\n",
       "      <th>voice mail plan</th>\n",
       "      <th>number vmail messages</th>\n",
       "      <th>total day minutes</th>\n",
       "      <th>total day calls</th>\n",
       "      <th>total day charge</th>\n",
       "      <th>total eve minutes</th>\n",
       "      <th>total eve calls</th>\n",
       "      <th>...</th>\n",
       "      <th>total night minutes</th>\n",
       "      <th>total night calls</th>\n",
       "      <th>total night charge</th>\n",
       "      <th>total intl minutes</th>\n",
       "      <th>total intl calls</th>\n",
       "      <th>total intl charge</th>\n",
       "      <th>customer service calls</th>\n",
       "      <th>churn</th>\n",
       "      <th>cat_area_code</th>\n",
       "      <th>region</th>\n",
       "    </tr>\n",
       "  </thead>\n",
       "  <tbody>\n",
       "    <tr>\n",
       "      <th>count</th>\n",
       "      <td>3333.000000</td>\n",
       "      <td>3333</td>\n",
       "      <td>3333</td>\n",
       "      <td>3333</td>\n",
       "      <td>3333.000000</td>\n",
       "      <td>3333.000000</td>\n",
       "      <td>3333.000000</td>\n",
       "      <td>3333.000000</td>\n",
       "      <td>3333.000000</td>\n",
       "      <td>3333.000000</td>\n",
       "      <td>...</td>\n",
       "      <td>3333.000000</td>\n",
       "      <td>3333.000000</td>\n",
       "      <td>3333.000000</td>\n",
       "      <td>3333.000000</td>\n",
       "      <td>3333.000000</td>\n",
       "      <td>3333.000000</td>\n",
       "      <td>3333.000000</td>\n",
       "      <td>3333</td>\n",
       "      <td>3333.0</td>\n",
       "      <td>3333</td>\n",
       "    </tr>\n",
       "    <tr>\n",
       "      <th>unique</th>\n",
       "      <td>NaN</td>\n",
       "      <td>3333</td>\n",
       "      <td>2</td>\n",
       "      <td>2</td>\n",
       "      <td>NaN</td>\n",
       "      <td>NaN</td>\n",
       "      <td>NaN</td>\n",
       "      <td>NaN</td>\n",
       "      <td>NaN</td>\n",
       "      <td>NaN</td>\n",
       "      <td>...</td>\n",
       "      <td>NaN</td>\n",
       "      <td>NaN</td>\n",
       "      <td>NaN</td>\n",
       "      <td>NaN</td>\n",
       "      <td>NaN</td>\n",
       "      <td>NaN</td>\n",
       "      <td>NaN</td>\n",
       "      <td>2</td>\n",
       "      <td>3.0</td>\n",
       "      <td>5</td>\n",
       "    </tr>\n",
       "    <tr>\n",
       "      <th>top</th>\n",
       "      <td>NaN</td>\n",
       "      <td>334-5634</td>\n",
       "      <td>no</td>\n",
       "      <td>no</td>\n",
       "      <td>NaN</td>\n",
       "      <td>NaN</td>\n",
       "      <td>NaN</td>\n",
       "      <td>NaN</td>\n",
       "      <td>NaN</td>\n",
       "      <td>NaN</td>\n",
       "      <td>...</td>\n",
       "      <td>NaN</td>\n",
       "      <td>NaN</td>\n",
       "      <td>NaN</td>\n",
       "      <td>NaN</td>\n",
       "      <td>NaN</td>\n",
       "      <td>NaN</td>\n",
       "      <td>NaN</td>\n",
       "      <td>False</td>\n",
       "      <td>415.0</td>\n",
       "      <td>Southeast</td>\n",
       "    </tr>\n",
       "    <tr>\n",
       "      <th>freq</th>\n",
       "      <td>NaN</td>\n",
       "      <td>1</td>\n",
       "      <td>3010</td>\n",
       "      <td>2411</td>\n",
       "      <td>NaN</td>\n",
       "      <td>NaN</td>\n",
       "      <td>NaN</td>\n",
       "      <td>NaN</td>\n",
       "      <td>NaN</td>\n",
       "      <td>NaN</td>\n",
       "      <td>...</td>\n",
       "      <td>NaN</td>\n",
       "      <td>NaN</td>\n",
       "      <td>NaN</td>\n",
       "      <td>NaN</td>\n",
       "      <td>NaN</td>\n",
       "      <td>NaN</td>\n",
       "      <td>NaN</td>\n",
       "      <td>2850</td>\n",
       "      <td>1655.0</td>\n",
       "      <td>845</td>\n",
       "    </tr>\n",
       "    <tr>\n",
       "      <th>mean</th>\n",
       "      <td>101.064806</td>\n",
       "      <td>NaN</td>\n",
       "      <td>NaN</td>\n",
       "      <td>NaN</td>\n",
       "      <td>8.099010</td>\n",
       "      <td>179.775098</td>\n",
       "      <td>100.435644</td>\n",
       "      <td>30.562307</td>\n",
       "      <td>200.980348</td>\n",
       "      <td>100.114311</td>\n",
       "      <td>...</td>\n",
       "      <td>200.872037</td>\n",
       "      <td>100.107711</td>\n",
       "      <td>9.039325</td>\n",
       "      <td>10.237294</td>\n",
       "      <td>4.479448</td>\n",
       "      <td>2.764581</td>\n",
       "      <td>1.562856</td>\n",
       "      <td>NaN</td>\n",
       "      <td>NaN</td>\n",
       "      <td>NaN</td>\n",
       "    </tr>\n",
       "    <tr>\n",
       "      <th>std</th>\n",
       "      <td>39.822106</td>\n",
       "      <td>NaN</td>\n",
       "      <td>NaN</td>\n",
       "      <td>NaN</td>\n",
       "      <td>13.688365</td>\n",
       "      <td>54.467389</td>\n",
       "      <td>20.069084</td>\n",
       "      <td>9.259435</td>\n",
       "      <td>50.713844</td>\n",
       "      <td>19.922625</td>\n",
       "      <td>...</td>\n",
       "      <td>50.573847</td>\n",
       "      <td>19.568609</td>\n",
       "      <td>2.275873</td>\n",
       "      <td>2.791840</td>\n",
       "      <td>2.461214</td>\n",
       "      <td>0.753773</td>\n",
       "      <td>1.315491</td>\n",
       "      <td>NaN</td>\n",
       "      <td>NaN</td>\n",
       "      <td>NaN</td>\n",
       "    </tr>\n",
       "    <tr>\n",
       "      <th>min</th>\n",
       "      <td>1.000000</td>\n",
       "      <td>NaN</td>\n",
       "      <td>NaN</td>\n",
       "      <td>NaN</td>\n",
       "      <td>0.000000</td>\n",
       "      <td>0.000000</td>\n",
       "      <td>0.000000</td>\n",
       "      <td>0.000000</td>\n",
       "      <td>0.000000</td>\n",
       "      <td>0.000000</td>\n",
       "      <td>...</td>\n",
       "      <td>23.200000</td>\n",
       "      <td>33.000000</td>\n",
       "      <td>1.040000</td>\n",
       "      <td>0.000000</td>\n",
       "      <td>0.000000</td>\n",
       "      <td>0.000000</td>\n",
       "      <td>0.000000</td>\n",
       "      <td>NaN</td>\n",
       "      <td>NaN</td>\n",
       "      <td>NaN</td>\n",
       "    </tr>\n",
       "    <tr>\n",
       "      <th>25%</th>\n",
       "      <td>74.000000</td>\n",
       "      <td>NaN</td>\n",
       "      <td>NaN</td>\n",
       "      <td>NaN</td>\n",
       "      <td>0.000000</td>\n",
       "      <td>143.700000</td>\n",
       "      <td>87.000000</td>\n",
       "      <td>24.430000</td>\n",
       "      <td>166.600000</td>\n",
       "      <td>87.000000</td>\n",
       "      <td>...</td>\n",
       "      <td>167.000000</td>\n",
       "      <td>87.000000</td>\n",
       "      <td>7.520000</td>\n",
       "      <td>8.500000</td>\n",
       "      <td>3.000000</td>\n",
       "      <td>2.300000</td>\n",
       "      <td>1.000000</td>\n",
       "      <td>NaN</td>\n",
       "      <td>NaN</td>\n",
       "      <td>NaN</td>\n",
       "    </tr>\n",
       "    <tr>\n",
       "      <th>50%</th>\n",
       "      <td>101.000000</td>\n",
       "      <td>NaN</td>\n",
       "      <td>NaN</td>\n",
       "      <td>NaN</td>\n",
       "      <td>0.000000</td>\n",
       "      <td>179.400000</td>\n",
       "      <td>101.000000</td>\n",
       "      <td>30.500000</td>\n",
       "      <td>201.400000</td>\n",
       "      <td>100.000000</td>\n",
       "      <td>...</td>\n",
       "      <td>201.200000</td>\n",
       "      <td>100.000000</td>\n",
       "      <td>9.050000</td>\n",
       "      <td>10.300000</td>\n",
       "      <td>4.000000</td>\n",
       "      <td>2.780000</td>\n",
       "      <td>1.000000</td>\n",
       "      <td>NaN</td>\n",
       "      <td>NaN</td>\n",
       "      <td>NaN</td>\n",
       "    </tr>\n",
       "    <tr>\n",
       "      <th>75%</th>\n",
       "      <td>127.000000</td>\n",
       "      <td>NaN</td>\n",
       "      <td>NaN</td>\n",
       "      <td>NaN</td>\n",
       "      <td>20.000000</td>\n",
       "      <td>216.400000</td>\n",
       "      <td>114.000000</td>\n",
       "      <td>36.790000</td>\n",
       "      <td>235.300000</td>\n",
       "      <td>114.000000</td>\n",
       "      <td>...</td>\n",
       "      <td>235.300000</td>\n",
       "      <td>113.000000</td>\n",
       "      <td>10.590000</td>\n",
       "      <td>12.100000</td>\n",
       "      <td>6.000000</td>\n",
       "      <td>3.270000</td>\n",
       "      <td>2.000000</td>\n",
       "      <td>NaN</td>\n",
       "      <td>NaN</td>\n",
       "      <td>NaN</td>\n",
       "    </tr>\n",
       "    <tr>\n",
       "      <th>max</th>\n",
       "      <td>243.000000</td>\n",
       "      <td>NaN</td>\n",
       "      <td>NaN</td>\n",
       "      <td>NaN</td>\n",
       "      <td>51.000000</td>\n",
       "      <td>350.800000</td>\n",
       "      <td>165.000000</td>\n",
       "      <td>59.640000</td>\n",
       "      <td>363.700000</td>\n",
       "      <td>170.000000</td>\n",
       "      <td>...</td>\n",
       "      <td>395.000000</td>\n",
       "      <td>175.000000</td>\n",
       "      <td>17.770000</td>\n",
       "      <td>20.000000</td>\n",
       "      <td>20.000000</td>\n",
       "      <td>5.400000</td>\n",
       "      <td>9.000000</td>\n",
       "      <td>NaN</td>\n",
       "      <td>NaN</td>\n",
       "      <td>NaN</td>\n",
       "    </tr>\n",
       "  </tbody>\n",
       "</table>\n",
       "<p>11 rows × 21 columns</p>\n",
       "</div>"
      ],
      "text/plain": [
       "        account length phone number international plan voice mail plan  \\\n",
       "count      3333.000000         3333               3333            3333   \n",
       "unique             NaN         3333                  2               2   \n",
       "top                NaN     334-5634                 no              no   \n",
       "freq               NaN            1               3010            2411   \n",
       "mean        101.064806          NaN                NaN             NaN   \n",
       "std          39.822106          NaN                NaN             NaN   \n",
       "min           1.000000          NaN                NaN             NaN   \n",
       "25%          74.000000          NaN                NaN             NaN   \n",
       "50%         101.000000          NaN                NaN             NaN   \n",
       "75%         127.000000          NaN                NaN             NaN   \n",
       "max         243.000000          NaN                NaN             NaN   \n",
       "\n",
       "        number vmail messages  total day minutes  total day calls  \\\n",
       "count             3333.000000        3333.000000      3333.000000   \n",
       "unique                    NaN                NaN              NaN   \n",
       "top                       NaN                NaN              NaN   \n",
       "freq                      NaN                NaN              NaN   \n",
       "mean                 8.099010         179.775098       100.435644   \n",
       "std                 13.688365          54.467389        20.069084   \n",
       "min                  0.000000           0.000000         0.000000   \n",
       "25%                  0.000000         143.700000        87.000000   \n",
       "50%                  0.000000         179.400000       101.000000   \n",
       "75%                 20.000000         216.400000       114.000000   \n",
       "max                 51.000000         350.800000       165.000000   \n",
       "\n",
       "        total day charge  total eve minutes  total eve calls  ...  \\\n",
       "count        3333.000000        3333.000000      3333.000000  ...   \n",
       "unique               NaN                NaN              NaN  ...   \n",
       "top                  NaN                NaN              NaN  ...   \n",
       "freq                 NaN                NaN              NaN  ...   \n",
       "mean           30.562307         200.980348       100.114311  ...   \n",
       "std             9.259435          50.713844        19.922625  ...   \n",
       "min             0.000000           0.000000         0.000000  ...   \n",
       "25%            24.430000         166.600000        87.000000  ...   \n",
       "50%            30.500000         201.400000       100.000000  ...   \n",
       "75%            36.790000         235.300000       114.000000  ...   \n",
       "max            59.640000         363.700000       170.000000  ...   \n",
       "\n",
       "        total night minutes  total night calls  total night charge  \\\n",
       "count           3333.000000        3333.000000         3333.000000   \n",
       "unique                  NaN                NaN                 NaN   \n",
       "top                     NaN                NaN                 NaN   \n",
       "freq                    NaN                NaN                 NaN   \n",
       "mean             200.872037         100.107711            9.039325   \n",
       "std               50.573847          19.568609            2.275873   \n",
       "min               23.200000          33.000000            1.040000   \n",
       "25%              167.000000          87.000000            7.520000   \n",
       "50%              201.200000         100.000000            9.050000   \n",
       "75%              235.300000         113.000000           10.590000   \n",
       "max              395.000000         175.000000           17.770000   \n",
       "\n",
       "        total intl minutes  total intl calls  total intl charge  \\\n",
       "count          3333.000000       3333.000000        3333.000000   \n",
       "unique                 NaN               NaN                NaN   \n",
       "top                    NaN               NaN                NaN   \n",
       "freq                   NaN               NaN                NaN   \n",
       "mean             10.237294          4.479448           2.764581   \n",
       "std               2.791840          2.461214           0.753773   \n",
       "min               0.000000          0.000000           0.000000   \n",
       "25%               8.500000          3.000000           2.300000   \n",
       "50%              10.300000          4.000000           2.780000   \n",
       "75%              12.100000          6.000000           3.270000   \n",
       "max              20.000000         20.000000           5.400000   \n",
       "\n",
       "        customer service calls  churn cat_area_code     region  \n",
       "count              3333.000000   3333        3333.0       3333  \n",
       "unique                     NaN      2           3.0          5  \n",
       "top                        NaN  False         415.0  Southeast  \n",
       "freq                       NaN   2850        1655.0        845  \n",
       "mean                  1.562856    NaN           NaN        NaN  \n",
       "std                   1.315491    NaN           NaN        NaN  \n",
       "min                   0.000000    NaN           NaN        NaN  \n",
       "25%                   1.000000    NaN           NaN        NaN  \n",
       "50%                   1.000000    NaN           NaN        NaN  \n",
       "75%                   2.000000    NaN           NaN        NaN  \n",
       "max                   9.000000    NaN           NaN        NaN  \n",
       "\n",
       "[11 rows x 21 columns]"
      ]
     },
     "execution_count": 27,
     "metadata": {},
     "output_type": "execute_result"
    }
   ],
   "source": [
    "# checking for the summary of the dataset\n",
    "\n",
    "df_copy.describe(include='all')"
   ]
  },
  {
   "cell_type": "code",
   "execution_count": 28,
   "metadata": {},
   "outputs": [
    {
     "data": {
      "image/png": "[encoded data removed]",
      "text/plain": [
       "<Figure size 864x720 with 1 Axes>"
      ]
     },
     "metadata": {
      "needs_background": "light"
     },
     "output_type": "display_data"
    },
    {
     "data": {
      "image/png": "[encoded data removed]",
      "text/plain": [
       "<Figure size 864x720 with 1 Axes>"
      ]
     },
     "metadata": {
      "needs_background": "light"
     },
     "output_type": "display_data"
    },
    {
     "data": {
      "image/png": "[encoded data removed]",
      "text/plain": [
       "<Figure size 864x720 with 1 Axes>"
      ]
     },
     "metadata": {
      "needs_background": "light"
     },
     "output_type": "display_data"
    },
    {
     "data": {
      "image/png": "[encoded data removed]",
      "text/plain": [
       "<Figure size 864x720 with 1 Axes>"
      ]
     },
     "metadata": {
      "needs_background": "light"
     },
     "output_type": "display_data"
    },
    {
     "data": {
      "image/png": "[encoded data removed]",
      "text/plain": [
       "<Figure size 864x720 with 1 Axes>"
      ]
     },
     "metadata": {
      "needs_background": "light"
     },
     "output_type": "display_data"
    },
    {
     "data": {
      "image/png": "[encoded data removed]",
      "text/plain": [
       "<Figure size 864x720 with 1 Axes>"
      ]
     },
     "metadata": {
      "needs_background": "light"
     },
     "output_type": "display_data"
    },
    {
     "data": {
      "image/png": "[encoded data removed]",
      "text/plain": [
       "<Figure size 864x720 with 1 Axes>"
      ]
     },
     "metadata": {
      "needs_background": "light"
     },
     "output_type": "display_data"
    },
    {
     "data": {
      "image/png": "[encoded data removed]",
      "text/plain": [
       "<Figure size 864x720 with 1 Axes>"
      ]
     },
     "metadata": {
      "needs_background": "light"
     },
     "output_type": "display_data"
    },
    {
     "data": {
      "image/png": "[encoded data removed]",
      "text/plain": [
       "<Figure size 864x720 with 1 Axes>"
      ]
     },
     "metadata": {
      "needs_background": "light"
     },
     "output_type": "display_data"
    },
    {
     "data": {
      "image/png": "[encoded data removed]",
      "text/plain": [
       "<Figure size 864x720 with 1 Axes>"
      ]
     },
     "metadata": {
      "needs_background": "light"
     },
     "output_type": "display_data"
    },
    {
     "data": {
      "image/png": "[encoded data removed]",
      "text/plain": [
       "<Figure size 864x720 with 1 Axes>"
      ]
     },
     "metadata": {
      "needs_background": "light"
     },
     "output_type": "display_data"
    },
    {
     "data": {
      "image/png": "[encoded data removed]",
      "text/plain": [
       "<Figure size 864x720 with 1 Axes>"
      ]
     },
     "metadata": {
      "needs_background": "light"
     },
     "output_type": "display_data"
    },
    {
     "data": {
      "image/png": "[encoded data removed]",
      "text/plain": [
       "<Figure size 864x720 with 1 Axes>"
      ]
     },
     "metadata": {
      "needs_background": "light"
     },
     "output_type": "display_data"
    },
    {
     "data": {
      "image/png": "[encoded data removed]",
      "text/plain": [
       "<Figure size 864x720 with 1 Axes>"
      ]
     },
     "metadata": {
      "needs_background": "light"
     },
     "output_type": "display_data"
    },
    {
     "data": {
      "image/png": "[encoded data removed]",
      "text/plain": [
       "<Figure size 864x720 with 1 Axes>"
      ]
     },
     "metadata": {
      "needs_background": "light"
     },
     "output_type": "display_data"
    }
   ],
   "source": [
    "# creating boxplots to investigate outliers in the dataset\n",
    "\n",
    "# creating a list of columns with numeric values\n",
    "numeric_cols = df_copy.select_dtypes('number').columns\n",
    "\n",
    "# a for loop that plots boxen plots for each of the columns\n",
    "\n",
    "for col in numeric_cols:\n",
    "    plt.figure(figsize=(12,10))\n",
    "    sns.boxenplot(x = df_copy[col],color='green')\n",
    "    plt.title('Box plot')\n",
    "    plt.show()"
   ]
  },
  {
   "cell_type": "markdown",
   "metadata": {},
   "source": [
    "From the boxenplots, it seems as though the are only a **few outliers** for each of the columns. However, there is **no peculiar case of extreme outliers which may warrant removal from the dataset**\n",
    "\n",
    "The decision to keep outliers is informed by the fact that discarding them may actually mean loss of meaningful information. Furthermore, the outliers do not seem to be extreme to have a huge affect on the performance of the model."
   ]
  },
  {
   "cell_type": "markdown",
   "metadata": {},
   "source": [
    "## External data validation"
   ]
  },
  {
   "cell_type": "markdown",
   "metadata": {},
   "source": [
    "According to Pew Research Center in a report titled *Cell phones and American adults*,https://www.pewresearch.org/internet/2010/09/02/cell-phones-and-american-adults/ the average american has a minimum of 2 night charges and a maximun of 18 night charges. This is inline with our dataset which reports a minimum of 1 and a maximum of 17."
   ]
  },
  {
   "cell_type": "code",
   "execution_count": 29,
   "metadata": {},
   "outputs": [
    {
     "data": {
      "image/png": "[encoded data removed]",
      "text/plain": [
       "<Figure size 864x720 with 1 Axes>"
      ]
     },
     "metadata": {
      "needs_background": "light"
     },
     "output_type": "display_data"
    }
   ],
   "source": [
    "# a boxplot showing the distribution of total charges and the reported min and max as per Pew Research Center\n",
    "\n",
    "plt.figure(figsize = (12, 10))\n",
    "sns.boxplot(x=\"total night charge\", data= df_copy, color= 'green')\n",
    "plt.axvline(x = 2, color =\"red\")\n",
    "plt.axvline(x=18, color =\"red\")\n",
    "plt.title('EXternal Data Validation');"
   ]
  },
  {
   "cell_type": "markdown",
   "metadata": {},
   "source": [
    "## Exploratory Data Analysis "
   ]
  },
  {
   "cell_type": "markdown",
   "metadata": {},
   "source": [
    "### 1. Univariate Analysis "
   ]
  },
  {
   "cell_type": "markdown",
   "metadata": {},
   "source": [
    "#### 1.(a) Distribution of continous variables "
   ]
  },
  {
   "cell_type": "code",
   "execution_count": 30,
   "metadata": {},
   "outputs": [],
   "source": [
    "# creating dataframe with continous variables only\n",
    "\n",
    "continous_vars = df_copy.select_dtypes('number')"
   ]
  },
  {
   "cell_type": "code",
   "execution_count": 31,
   "metadata": {},
   "outputs": [
    {
     "data": {
      "image/png": "[encoded data removed]",
      "text/plain": [
       "<Figure size 1440x1080 with 16 Axes>"
      ]
     },
     "metadata": {
      "needs_background": "light"
     },
     "output_type": "display_data"
    }
   ],
   "source": [
    "# creating histograms for each of the columns in the dataset\n",
    "\n",
    "continous_vars.hist(bins=30, figsize=(20, 15), color ='green');"
   ]
  },
  {
   "cell_type": "markdown",
   "metadata": {},
   "source": [
    "> From the histograms, all our continous variables seem to **have reasonable normal distributions** which will be good for modelling purposes "
   ]
  },
  {
   "cell_type": "markdown",
   "metadata": {},
   "source": [
    "#### 1.(b) Churn count"
   ]
  },
  {
   "cell_type": "code",
   "execution_count": 32,
   "metadata": {},
   "outputs": [
    {
     "data": {
      "image/png": "[encoded data removed]",
      "text/plain": [
       "<Figure size 864x720 with 1 Axes>"
      ]
     },
     "metadata": {
      "needs_background": "light"
     },
     "output_type": "display_data"
    }
   ],
   "source": [
    "# Creating a countplot of churn vs non-churn\n",
    "\n",
    "plt.figure(figsize= (12,10))\n",
    "sns.countplot(x='churn', data= df_copy, palette=['g', 'r'])\n",
    "plt.title('Churn vs non-churn');"
   ]
  },
  {
   "cell_type": "markdown",
   "metadata": {},
   "source": [
    "From the following countplot, it is clear customers who do not churn **(86%)** are more than those who churn **(14%)**. This is an expected situation as many customers are expected to not churn and only a few to churn. This been the target variable that will be predicted by the machine learning model, an imbalanced dataset presents the following challenges:\n",
    "\n",
    "&#9677; Biased Model Performance: Models trained on imbalanced data can exhibit high accuracy, but this may not be a good indicator of their actual performance as they might have a bias towards the majority class.\n",
    "\n",
    "&#9677; Overfitting on Majority Class: Models can easily overfit to the majority class and ignore the minority class, leading to poor performance on the minority class.\n",
    "\n",
    "&#9677; Inadequate Representation of Minority Class: With imbalanced data, the model may not see enough examples of the minority class, leading to under-representation and misclassification.\n",
    "\n",
    "&#9677; Difficulty in Evaluation: Evaluation metrics such as accuracy can be misleading in imbalanced datasets."
   ]
  },
  {
   "cell_type": "markdown",
   "metadata": {},
   "source": [
    "#### 1(c) Which region has the highest number of customers "
   ]
  },
  {
   "cell_type": "code",
   "execution_count": 33,
   "metadata": {},
   "outputs": [
    {
     "data": {
      "image/png": "[encoded data removed]",
      "text/plain": [
       "<Figure size 864x720 with 1 Axes>"
      ]
     },
     "metadata": {
      "needs_background": "light"
     },
     "output_type": "display_data"
    }
   ],
   "source": [
    "# countplot of regions \n",
    "\n",
    "plt.figure(figsize= (12,10))\n",
    "sns.countplot(x='region', data= df_copy, palette=['red','green','blue','yellow','orange'])\n",
    "plt.title('Customers per Region');"
   ]
  },
  {
   "cell_type": "markdown",
   "metadata": {},
   "source": [
    "It seems like most of regions have customer numbers above 700 except for the Southwest region which has less than three hundred customer. However, it is expected as there are only a few states that make up that region"
   ]
  },
  {
   "cell_type": "markdown",
   "metadata": {},
   "source": [
    "### 2. Bivariate Analysis"
   ]
  },
  {
   "cell_type": "markdown",
   "metadata": {},
   "source": [
    "#### 2(a) Which region has the highest churn rate "
   ]
  },
  {
   "cell_type": "code",
   "execution_count": 34,
   "metadata": {},
   "outputs": [
    {
     "data": {
      "image/png": "[encoded data removed]",
      "text/plain": [
       "<Figure size 864x720 with 2 Axes>"
      ]
     },
     "metadata": {
      "needs_background": "light"
     },
     "output_type": "display_data"
    }
   ],
   "source": [
    "# heatmap of region vs churn \n",
    "\n",
    "plt.figure(figsize=(12,10))\n",
    "counts = df_copy.groupby(['region', 'churn']).size().reset_index(name='counts')\n",
    "pivot = counts.pivot(\"region\", \"churn\", \"counts\")\n",
    "sns.heatmap(pivot, annot=True, cmap=\"Greens\", linewidths=2, fmt=\".2f\")\n",
    "plt.title(\"Churn vs Region\");\n"
   ]
  },
  {
   "cell_type": "markdown",
   "metadata": {},
   "source": [
    "Of particular interest from the above plot is the Northeast region which has the highest churn rate. On the other hand, the the Southeast and Midwest regions have relatively low churn rates "
   ]
  },
  {
   "cell_type": "markdown",
   "metadata": {},
   "source": [
    "#### 2(b) Does international plan has some sort of relationship with churning "
   ]
  },
  {
   "cell_type": "code",
   "execution_count": 35,
   "metadata": {},
   "outputs": [
    {
     "data": {
      "image/png": "[encoded data removed]",
      "text/plain": [
       "<Figure size 864x720 with 2 Axes>"
      ]
     },
     "metadata": {
      "needs_background": "light"
     },
     "output_type": "display_data"
    }
   ],
   "source": [
    "# a heatmap of churn vs international plan\n",
    "\n",
    "plt.figure(figsize=(12,10))\n",
    "counts = df_copy.groupby(['international plan', 'churn']).size().reset_index(name='counts')\n",
    "pivot = counts.pivot(\"international plan\", \"churn\", \"counts\")\n",
    "sns.heatmap(pivot, annot=True, cmap=\"Reds\",linewidths=2.5, fmt=\".2f\")\n",
    "plt.title(\"Churn vs international plan\");\n"
   ]
  },
  {
   "cell_type": "markdown",
   "metadata": {},
   "source": [
    "From the heatmap, it evident that **people who do not have an international plan are twice likely to churn that people who have an international plan**"
   ]
  },
  {
   "cell_type": "markdown",
   "metadata": {},
   "source": [
    "#### 2(c) Does voice mail plan has some sort of relationship with churning "
   ]
  },
  {
   "cell_type": "code",
   "execution_count": 36,
   "metadata": {},
   "outputs": [
    {
     "data": {
      "image/png": "[encoded data removed]",
      "text/plain": [
       "<Figure size 864x720 with 2 Axes>"
      ]
     },
     "metadata": {
      "needs_background": "light"
     },
     "output_type": "display_data"
    }
   ],
   "source": [
    "# a heatmap of churn vs voice mail plan\n",
    "\n",
    "plt.figure(figsize=(12,10))\n",
    "counts = df_copy.groupby(['voice mail plan', 'churn']).size().reset_index(name='counts')\n",
    "pivot = counts.pivot(\"voice mail plan\", \"churn\", \"counts\")\n",
    "sns.heatmap(pivot, annot=True, cmap=\"viridis\",linewidths=2.5, fmt=\".2f\")\n",
    "plt.title(\"Churn vs voice mail plan\");\n"
   ]
  },
  {
   "cell_type": "markdown",
   "metadata": {},
   "source": [
    "It is clearly depicted from the heatmap that **customers who do not have a voicemail  are five times likely to churn that people who have a voicemail plan**"
   ]
  },
  {
   "cell_type": "markdown",
   "metadata": {},
   "source": [
    "#### 2 (d) what is the relationship between average customer service call for Churning and Non-churning customers"
   ]
  },
  {
   "cell_type": "code",
   "execution_count": 37,
   "metadata": {},
   "outputs": [
    {
     "data": {
      "image/png": "[encoded data removed]",
      "text/plain": [
       "<Figure size 864x720 with 1 Axes>"
      ]
     },
     "metadata": {
      "needs_background": "light"
     },
     "output_type": "display_data"
    }
   ],
   "source": [
    "# a barplot showing average customer service calls for churn \n",
    "\n",
    "plt.figure(figsize =(12,10))\n",
    "sns.barplot(x='churn', y='customer service calls' , data= df_copy, color = 'blue', palette = 'hls', ci=None)\n",
    "plt.title('Average customer service calls for Churn and Non-churn customers');"
   ]
  },
  {
   "cell_type": "markdown",
   "metadata": {},
   "source": [
    "The barplot above shows that customers are likely to churn if they make more than 2 customer service calls. This is an indication that customers are more likely to churn if they do not feel like they are getting customer service.  "
   ]
  },
  {
   "cell_type": "markdown",
   "metadata": {},
   "source": [
    "#### 2 (e) Total day minutes for Churning and Non-churning customers"
   ]
  },
  {
   "cell_type": "code",
   "execution_count": 38,
   "metadata": {},
   "outputs": [
    {
     "data": {
      "image/png": "[encoded data removed]",
      "text/plain": [
       "<Figure size 864x720 with 1 Axes>"
      ]
     },
     "metadata": {
      "needs_background": "light"
     },
     "output_type": "display_data"
    }
   ],
   "source": [
    "# a barplot showing average customer service calls for churn \n",
    "\n",
    "plt.figure(figsize =(12,10))\n",
    "sns.barplot(x='churn', y='total day minutes' , data= df_copy, color = 'blue', palette = 'hls', ci=None)\n",
    "plt.title('Total day minutes for Churn and Non-churn customers');"
   ]
  },
  {
   "cell_type": "markdown",
   "metadata": {},
   "source": [
    "It seems as though churning customers have a slightly higher total day minutes that non-churning customers"
   ]
  },
  {
   "cell_type": "markdown",
   "metadata": {},
   "source": [
    "#### 2 (f) Total day charge minutes for Churning and Non-churning customers"
   ]
  },
  {
   "cell_type": "code",
   "execution_count": 39,
   "metadata": {},
   "outputs": [
    {
     "data": {
      "image/png": "[encoded data removed]",
      "text/plain": [
       "<Figure size 864x720 with 1 Axes>"
      ]
     },
     "metadata": {
      "needs_background": "light"
     },
     "output_type": "display_data"
    }
   ],
   "source": [
    "# plotting a barplot for total day charge  \n",
    "\n",
    "plt.figure(figsize =(12,10))\n",
    "sns.barplot(x='churn', y='total day charge' , data= df_copy, color = 'blue', palette = 'hls', ci=None)\n",
    "plt.title('Average total day charge for Churn and Non-churn customers');"
   ]
  },
  {
   "cell_type": "markdown",
   "metadata": {},
   "source": [
    "From the barplot, it seems as though that there is no significant differences between total evening minutes for churning and non-churning customers"
   ]
  },
  {
   "cell_type": "markdown",
   "metadata": {},
   "source": [
    "#### 2 (g) Total night minutes for Churning and Non-churning customers"
   ]
  },
  {
   "cell_type": "code",
   "execution_count": 40,
   "metadata": {},
   "outputs": [
    {
     "data": {
      "image/png": "[encoded data removed]",
      "text/plain": [
       "<Figure size 864x720 with 1 Axes>"
      ]
     },
     "metadata": {
      "needs_background": "light"
     },
     "output_type": "display_data"
    }
   ],
   "source": [
    "# plotting a bar plot total night minutes \n",
    "\n",
    "plt.figure(figsize =(12,10))\n",
    "sns.barplot(x='churn', y='total night minutes' , data= df_copy, color = 'blue', palette = 'hls', ci=None)\n",
    "plt.title('Total night minutes for Churn and Non-churn customers');"
   ]
  },
  {
   "cell_type": "markdown",
   "metadata": {},
   "source": [
    "The barplot shows that there is no major difference between the average total night minutes for churning and non-churning customers"
   ]
  },
  {
   "cell_type": "markdown",
   "metadata": {},
   "source": [
    "#### 2 (h) Total day calls for Churning and Non-churning customers"
   ]
  },
  {
   "cell_type": "code",
   "execution_count": 41,
   "metadata": {},
   "outputs": [
    {
     "data": {
      "image/png": "[encoded data removed]",
      "text/plain": [
       "<Figure size 864x720 with 1 Axes>"
      ]
     },
     "metadata": {
      "needs_background": "light"
     },
     "output_type": "display_data"
    }
   ],
   "source": [
    "# plotting a barplot for total day calls \n",
    "\n",
    "plt.figure(figsize =(12,10))\n",
    "sns.barplot(x='churn', y='total day calls' , data= df_copy, color = 'blue', palette = 'hls', ci=None)\n",
    "plt.title('Total day calls for Churn and Non-churn customers');"
   ]
  },
  {
   "cell_type": "markdown",
   "metadata": {},
   "source": [
    "Similarly, the barplot shows that average total day calls for churning and non-churning customers is almost the same"
   ]
  },
  {
   "cell_type": "markdown",
   "metadata": {},
   "source": [
    "#### 2 (i) Total night calls for Churning and Non-churning customers"
   ]
  },
  {
   "cell_type": "code",
   "execution_count": 42,
   "metadata": {},
   "outputs": [
    {
     "data": {
      "image/png": "[encoded data removed]",
      "text/plain": [
       "<Figure size 864x720 with 1 Axes>"
      ]
     },
     "metadata": {
      "needs_background": "light"
     },
     "output_type": "display_data"
    }
   ],
   "source": [
    "# plotting a barplot for night calls \n",
    "\n",
    "plt.figure(figsize =(12,10))\n",
    "sns.barplot(x='churn', y='total night calls' , data= df_copy, color = 'blue', palette = 'hls', ci=None)\n",
    "plt.title('Total night calls for Churn and Non-churn customers');"
   ]
  },
  {
   "cell_type": "markdown",
   "metadata": {},
   "source": [
    "It is evident from the barplot that total night calls for churning and non-churning customers are almost indistinguishable"
   ]
  },
  {
   "cell_type": "markdown",
   "metadata": {},
   "source": [
    "---"
   ]
  },
  {
   "cell_type": "markdown",
   "metadata": {},
   "source": [
    "<font size=\"5\"> DATA PREPARATION </font>"
   ]
  },
  {
   "cell_type": "markdown",
   "metadata": {},
   "source": [
    "---"
   ]
  },
  {
   "cell_type": "markdown",
   "metadata": {},
   "source": [
    "First thing first, the column **phone number** will be **dropped**. This is because personal identifiers, such as phone numbers, often cause overfitting in machine learning models because they are unique and constant features, which can **lead to memorization of the training data rather than generalization**. This can result in **poor performance on unseen data, as the model has simply memorized the specific training examples instead of learning patterns or relationships in the data**. Additionally, personal identifiers are often irrelevant to the target variable and including them in the model can introduce noise, reducing the overall accuracy of the model."
   ]
  },
  {
   "cell_type": "code",
   "execution_count": 43,
   "metadata": {},
   "outputs": [
    {
     "data": {
      "text/plain": [
       "3333"
      ]
     },
     "execution_count": 43,
     "metadata": {},
     "output_type": "execute_result"
    }
   ],
   "source": [
    "# as it can be seen each phone number each phone is unique for each and every customer\n",
    "\n",
    "df_copy['phone number'].nunique() "
   ]
  },
  {
   "cell_type": "code",
   "execution_count": 44,
   "metadata": {},
   "outputs": [],
   "source": [
    "# Dropping the phone number column from the dataset \n",
    "\n",
    "df_copy.drop('phone number', axis=1, inplace= True)"
   ]
  },
  {
   "cell_type": "markdown",
   "metadata": {},
   "source": [
    "### Data preprocessing "
   ]
  },
  {
   "cell_type": "markdown",
   "metadata": {},
   "source": [
    "##### Dealing with categorical variables "
   ]
  },
  {
   "cell_type": "code",
   "execution_count": 45,
   "metadata": {},
   "outputs": [],
   "source": [
    "# dealing with categorical variables \n",
    "\n",
    "categories = ['international plan','voice mail plan','cat_area_code','region','churn']\n",
    "\n",
    "df_cats = df_copy[categories]\n",
    "df_categorical = pd.get_dummies(df_cats, columns= categories, drop_first=True, dtype=float)\n",
    "\n",
    "all_cols = df_copy.columns.to_list()\n",
    "\n",
    "not_in_cats = list(set(all_cols) - set(categories))\n",
    "df_numeric = df_copy[not_in_cats]\n",
    "df_copy_2 = pd.concat([df_numeric, df_categorical], axis=1)\n",
    "\n",
    "# rename the name of the column \n",
    "\n",
    "df_copy_2.rename(columns={'churn_True': 'churn'}, inplace=True)\n"
   ]
  },
  {
   "cell_type": "markdown",
   "metadata": {},
   "source": [
    "##### Defining predictor and target variables "
   ]
  },
  {
   "cell_type": "code",
   "execution_count": 46,
   "metadata": {},
   "outputs": [],
   "source": [
    "X = df_copy_2.drop('churn', axis= 1)\n",
    "y = df_copy_2['churn']"
   ]
  },
  {
   "cell_type": "markdown",
   "metadata": {},
   "source": [
    "##### Performing a train and test split "
   ]
  },
  {
   "cell_type": "code",
   "execution_count": 47,
   "metadata": {},
   "outputs": [],
   "source": [
    "# train and test split with the test data comprosing of 20% of the initial data \n",
    "\n",
    "X_train, X_test, y_train, y_test = train_test_split(X, y, test_size = 0.2, random_state=1)"
   ]
  },
  {
   "cell_type": "markdown",
   "metadata": {},
   "source": [
    "##### Normalizing numeric features"
   ]
  },
  {
   "cell_type": "code",
   "execution_count": 54,
   "metadata": {},
   "outputs": [],
   "source": [
    "# normalizing numeric features in the dataset \n",
    "\n",
    "X_train_numeric = X_train[not_in_cats]\n",
    "X_train_numeric\n",
    "\n",
    "\n",
    "\n",
    "scaler = MinMaxScaler()\n",
    "\n",
    "scaler.fit(X_train_numeric)\n",
    "X_train_scaled = pd.DataFrame(scaler.transform(X_train_numeric),index=X_train_numeric.index,\n",
    "                              columns=X_train_numeric.columns)"
   ]
  },
  {
   "cell_type": "code",
   "execution_count": 55,
   "metadata": {},
   "outputs": [
    {
     "data": {
      "text/html": [
       "<div>\n",
       "<style scoped>\n",
       "    .dataframe tbody tr th:only-of-type {\n",
       "        vertical-align: middle;\n",
       "    }\n",
       "\n",
       "    .dataframe tbody tr th {\n",
       "        vertical-align: top;\n",
       "    }\n",
       "\n",
       "    .dataframe thead th {\n",
       "        text-align: right;\n",
       "    }\n",
       "</style>\n",
       "<table border=\"1\" class=\"dataframe\">\n",
       "  <thead>\n",
       "    <tr style=\"text-align: right;\">\n",
       "      <th></th>\n",
       "      <th>customer service calls</th>\n",
       "      <th>total day minutes</th>\n",
       "      <th>total day charge</th>\n",
       "      <th>total intl charge</th>\n",
       "      <th>total night minutes</th>\n",
       "      <th>total intl minutes</th>\n",
       "      <th>total eve calls</th>\n",
       "      <th>total intl calls</th>\n",
       "      <th>number vmail messages</th>\n",
       "      <th>total eve minutes</th>\n",
       "      <th>...</th>\n",
       "      <th>account length</th>\n",
       "      <th>total night charge</th>\n",
       "      <th>cat_area_code_415</th>\n",
       "      <th>cat_area_code_510</th>\n",
       "      <th>region_Northeast</th>\n",
       "      <th>region_Southeast</th>\n",
       "      <th>region_Southwest</th>\n",
       "      <th>region_West</th>\n",
       "      <th>international plan_yes</th>\n",
       "      <th>voice mail plan_yes</th>\n",
       "    </tr>\n",
       "  </thead>\n",
       "  <tbody>\n",
       "    <tr>\n",
       "      <th>1680</th>\n",
       "      <td>0.222222</td>\n",
       "      <td>0.554447</td>\n",
       "      <td>0.554494</td>\n",
       "      <td>0.635185</td>\n",
       "      <td>0.417160</td>\n",
       "      <td>0.635</td>\n",
       "      <td>0.753165</td>\n",
       "      <td>0.05</td>\n",
       "      <td>0.000000</td>\n",
       "      <td>0.469147</td>\n",
       "      <td>...</td>\n",
       "      <td>0.438017</td>\n",
       "      <td>0.417215</td>\n",
       "      <td>0.0</td>\n",
       "      <td>1.0</td>\n",
       "      <td>0.0</td>\n",
       "      <td>1.0</td>\n",
       "      <td>0.0</td>\n",
       "      <td>0.0</td>\n",
       "      <td>0.0</td>\n",
       "      <td>0.0</td>\n",
       "    </tr>\n",
       "    <tr>\n",
       "      <th>81</th>\n",
       "      <td>0.333333</td>\n",
       "      <td>0.614025</td>\n",
       "      <td>0.614017</td>\n",
       "      <td>0.629630</td>\n",
       "      <td>0.686659</td>\n",
       "      <td>0.630</td>\n",
       "      <td>0.424051</td>\n",
       "      <td>0.25</td>\n",
       "      <td>0.000000</td>\n",
       "      <td>0.525106</td>\n",
       "      <td>...</td>\n",
       "      <td>0.475207</td>\n",
       "      <td>0.686790</td>\n",
       "      <td>1.0</td>\n",
       "      <td>0.0</td>\n",
       "      <td>0.0</td>\n",
       "      <td>0.0</td>\n",
       "      <td>0.0</td>\n",
       "      <td>1.0</td>\n",
       "      <td>1.0</td>\n",
       "      <td>0.0</td>\n",
       "    </tr>\n",
       "    <tr>\n",
       "      <th>151</th>\n",
       "      <td>0.111111</td>\n",
       "      <td>0.293044</td>\n",
       "      <td>0.293092</td>\n",
       "      <td>0.505556</td>\n",
       "      <td>0.741797</td>\n",
       "      <td>0.505</td>\n",
       "      <td>0.500000</td>\n",
       "      <td>0.35</td>\n",
       "      <td>0.000000</td>\n",
       "      <td>0.530853</td>\n",
       "      <td>...</td>\n",
       "      <td>0.479339</td>\n",
       "      <td>0.742379</td>\n",
       "      <td>1.0</td>\n",
       "      <td>0.0</td>\n",
       "      <td>0.0</td>\n",
       "      <td>0.0</td>\n",
       "      <td>0.0</td>\n",
       "      <td>0.0</td>\n",
       "      <td>0.0</td>\n",
       "      <td>0.0</td>\n",
       "    </tr>\n",
       "    <tr>\n",
       "      <th>774</th>\n",
       "      <td>0.111111</td>\n",
       "      <td>0.459236</td>\n",
       "      <td>0.459256</td>\n",
       "      <td>0.529630</td>\n",
       "      <td>0.551910</td>\n",
       "      <td>0.530</td>\n",
       "      <td>0.436709</td>\n",
       "      <td>0.20</td>\n",
       "      <td>0.000000</td>\n",
       "      <td>0.506957</td>\n",
       "      <td>...</td>\n",
       "      <td>0.326446</td>\n",
       "      <td>0.552301</td>\n",
       "      <td>1.0</td>\n",
       "      <td>0.0</td>\n",
       "      <td>0.0</td>\n",
       "      <td>0.0</td>\n",
       "      <td>0.0</td>\n",
       "      <td>1.0</td>\n",
       "      <td>0.0</td>\n",
       "      <td>0.0</td>\n",
       "    </tr>\n",
       "    <tr>\n",
       "      <th>790</th>\n",
       "      <td>0.000000</td>\n",
       "      <td>0.801311</td>\n",
       "      <td>0.801308</td>\n",
       "      <td>0.375926</td>\n",
       "      <td>0.191232</td>\n",
       "      <td>0.375</td>\n",
       "      <td>0.575949</td>\n",
       "      <td>0.15</td>\n",
       "      <td>0.882353</td>\n",
       "      <td>0.504537</td>\n",
       "      <td>...</td>\n",
       "      <td>0.376033</td>\n",
       "      <td>0.191273</td>\n",
       "      <td>1.0</td>\n",
       "      <td>0.0</td>\n",
       "      <td>0.0</td>\n",
       "      <td>0.0</td>\n",
       "      <td>1.0</td>\n",
       "      <td>0.0</td>\n",
       "      <td>1.0</td>\n",
       "      <td>1.0</td>\n",
       "    </tr>\n",
       "  </tbody>\n",
       "</table>\n",
       "<p>5 rows × 23 columns</p>\n",
       "</div>"
      ],
      "text/plain": [
       "      customer service calls  total day minutes  total day charge  \\\n",
       "1680                0.222222           0.554447          0.554494   \n",
       "81                  0.333333           0.614025          0.614017   \n",
       "151                 0.111111           0.293044          0.293092   \n",
       "774                 0.111111           0.459236          0.459256   \n",
       "790                 0.000000           0.801311          0.801308   \n",
       "\n",
       "      total intl charge  total night minutes  total intl minutes  \\\n",
       "1680           0.635185             0.417160               0.635   \n",
       "81             0.629630             0.686659               0.630   \n",
       "151            0.505556             0.741797               0.505   \n",
       "774            0.529630             0.551910               0.530   \n",
       "790            0.375926             0.191232               0.375   \n",
       "\n",
       "      total eve calls  total intl calls  number vmail messages  \\\n",
       "1680         0.753165              0.05               0.000000   \n",
       "81           0.424051              0.25               0.000000   \n",
       "151          0.500000              0.35               0.000000   \n",
       "774          0.436709              0.20               0.000000   \n",
       "790          0.575949              0.15               0.882353   \n",
       "\n",
       "      total eve minutes  ...  account length  total night charge  \\\n",
       "1680           0.469147  ...        0.438017            0.417215   \n",
       "81             0.525106  ...        0.475207            0.686790   \n",
       "151            0.530853  ...        0.479339            0.742379   \n",
       "774            0.506957  ...        0.326446            0.552301   \n",
       "790            0.504537  ...        0.376033            0.191273   \n",
       "\n",
       "      cat_area_code_415  cat_area_code_510  region_Northeast  \\\n",
       "1680                0.0                1.0               0.0   \n",
       "81                  1.0                0.0               0.0   \n",
       "151                 1.0                0.0               0.0   \n",
       "774                 1.0                0.0               0.0   \n",
       "790                 1.0                0.0               0.0   \n",
       "\n",
       "      region_Southeast  region_Southwest  region_West  international plan_yes  \\\n",
       "1680               1.0               0.0          0.0                     0.0   \n",
       "81                 0.0               0.0          1.0                     1.0   \n",
       "151                0.0               0.0          0.0                     0.0   \n",
       "774                0.0               0.0          1.0                     0.0   \n",
       "790                0.0               1.0          0.0                     1.0   \n",
       "\n",
       "      voice mail plan_yes  \n",
       "1680                  0.0  \n",
       "81                    0.0  \n",
       "151                   0.0  \n",
       "774                   0.0  \n",
       "790                   1.0  \n",
       "\n",
       "[5 rows x 23 columns]"
      ]
     },
     "execution_count": 55,
     "metadata": {},
     "output_type": "execute_result"
    }
   ],
   "source": [
    "# concatenating datasets \n",
    "\n",
    "cat_cols = ['cat_area_code_415','cat_area_code_510','region_Northeast','region_Southeast',\n",
    "            'region_Southwest','region_West','international plan_yes','voice mail plan_yes'\n",
    "            ]\n",
    "X_train_categorical = X_train[cat_cols]\n",
    "X_train_complete = pd.concat([X_train_scaled,X_train_categorical], axis=1)\n",
    "X_train_complete.head()"
   ]
  },
  {
   "cell_type": "markdown",
   "metadata": {},
   "source": [
    "##### Over-sampling the minority classs using SMOTE "
   ]
  },
  {
   "cell_type": "code",
   "execution_count": 56,
   "metadata": {},
   "outputs": [
    {
     "data": {
      "text/plain": [
       "1.0    2281\n",
       "0.0    2281\n",
       "Name: churn, dtype: int64"
      ]
     },
     "execution_count": 56,
     "metadata": {},
     "output_type": "execute_result"
    }
   ],
   "source": [
    "# oversampling the minority class using smote\n",
    "smote = SMOTE()\n",
    "X_train_resampled, y_train_resampled = smote.fit_resample(X_train_complete, y_train)\n",
    "\n",
    "y_train_resampled.value_counts()"
   ]
  },
  {
   "cell_type": "markdown",
   "metadata": {},
   "source": [
    "----"
   ]
  },
  {
   "cell_type": "markdown",
   "metadata": {},
   "source": [
    "<font size=\"5\"> MODELLING </font>"
   ]
  },
  {
   "cell_type": "markdown",
   "metadata": {},
   "source": [
    "---"
   ]
  },
  {
   "cell_type": "markdown",
   "metadata": {},
   "source": [
    "In coming up with the best model, the following approach will be taken:\n",
    "\n",
    "&#9677; Fitting a baseline model( logistic regression) to act as the benchmark\n",
    "\n",
    "&#9677; Fitting other potential models such a random forest classifier, a support vector classifier, a Adaboost classifier and a XgBoost classifier \n",
    "\n",
    "&#9677; Hyperparameters tuning of the two best models ( taking into account prediction accuracy and recall)\n",
    "\n",
    "&#9677; Comparing vanilla versions of the two best models with the tuned versions of the models and selecting the best model to optimize our business problem\n",
    "    "
   ]
  },
  {
   "cell_type": "markdown",
   "metadata": {},
   "source": [
    "### Fitting the baseline model ( Logistic regression Model)"
   ]
  },
  {
   "cell_type": "code",
   "execution_count": 57,
   "metadata": {},
   "outputs": [],
   "source": [
    "# Fitting the model on training data \n",
    "\n",
    "logistic = LogisticRegression()\n",
    "\n",
    "log_model = logistic.fit(X_train_resampled, y_train_resampled)\n",
    "\n",
    "y_pred_log = log_model.predict(X_train_resampled)"
   ]
  },
  {
   "cell_type": "code",
   "execution_count": 60,
   "metadata": {},
   "outputs": [],
   "source": [
    "# Normalizing the test \n",
    "\n",
    "X_test_numeric = X_test[not_in_cats]\n",
    "\n",
    "X_test_scaled = pd.DataFrame(scaler.transform(X_test_numeric),index=X_test_numeric.index,\n",
    "                              columns=X_test_numeric.columns)"
   ]
  },
  {
   "cell_type": "code",
   "execution_count": 61,
   "metadata": {},
   "outputs": [],
   "source": [
    "# Concatenating the full dataset for the test set\n",
    "\n",
    "X_test_categorical = X_test[cat_cols]\n",
    "X_test_complete = pd.concat([X_test_scaled,X_test_categorical], axis=1)"
   ]
  },
  {
   "cell_type": "code",
   "execution_count": 62,
   "metadata": {},
   "outputs": [],
   "source": [
    "# predicting new unseen data ( test set)\n",
    "\n",
    "y_test_pred_log = log_model.predict(X_test_complete)\n"
   ]
  },
  {
   "cell_type": "code",
   "execution_count": 63,
   "metadata": {},
   "outputs": [
    {
     "name": "stdout",
     "output_type": "stream",
     "text": [
      "              precision    recall  f1-score   support\n",
      "\n",
      "         0.0       0.95      0.75      0.83       569\n",
      "         1.0       0.34      0.76      0.47        98\n",
      "\n",
      "    accuracy                           0.75       667\n",
      "   macro avg       0.64      0.75      0.65       667\n",
      "weighted avg       0.86      0.75      0.78       667\n",
      "\n"
     ]
    }
   ],
   "source": [
    "# Checking the classification report for the performance of the logistic regression model\n",
    "\n",
    "print(classification_report(y_test,y_test_pred_log))"
   ]
  },
  {
   "cell_type": "code",
   "execution_count": 64,
   "metadata": {},
   "outputs": [
    {
     "data": {
      "image/png": "[encoded data removed]",
      "text/plain": [
       "<Figure size 720x576 with 2 Axes>"
      ]
     },
     "metadata": {
      "needs_background": "light"
     },
     "output_type": "display_data"
    }
   ],
   "source": [
    "# plotting a confusion matrix \n",
    "\n",
    "confus_matrix_log= confusion_matrix(y_test, y_test_pred_log)\n",
    "\n",
    "plt.figure(figsize= (10,8))\n",
    "ax= plt.subplot()\n",
    "sns.heatmap(confus_matrix_log , annot=True, fmt='g', ax=ax, linewidth =0.2);  \n",
    "ax.set_xlabel('Predicted labels');ax.set_ylabel('True labels'); \n",
    "ax.set_title('Logistic Regression'); \n",
    "ax.xaxis.set_ticklabels(['Non-Churn', 'Churn']); ax.yaxis.set_ticklabels(['Non- Churn', 'Churn']);"
   ]
  },
  {
   "cell_type": "markdown",
   "metadata": {},
   "source": [
    "### Fitting other potential classifiers"
   ]
  },
  {
   "cell_type": "markdown",
   "metadata": {},
   "source": [
    "#### RandomForest classifier"
   ]
  },
  {
   "cell_type": "code",
   "execution_count": 65,
   "metadata": {},
   "outputs": [
    {
     "name": "stdout",
     "output_type": "stream",
     "text": [
      "              precision    recall  f1-score   support\n",
      "\n",
      "         0.0       0.96      0.96      0.96       569\n",
      "         1.0       0.77      0.80      0.78        98\n",
      "\n",
      "    accuracy                           0.94       667\n",
      "   macro avg       0.87      0.88      0.87       667\n",
      "weighted avg       0.94      0.94      0.94       667\n",
      "\n"
     ]
    }
   ],
   "source": [
    "# randomforest classifier vanilla model\n",
    "\n",
    "random_clf = RandomForestClassifier()  \n",
    "  \n",
    "# Training the model on the training dataset\n",
    "\n",
    "random_clf.fit(X_train_resampled, y_train_resampled)\n",
    "  \n",
    "# performing predictions on the test dataset\n",
    "y_test_pred_rf = random_clf.predict(X_test_complete)\n",
    "\n",
    "print(classification_report(y_test,y_test_pred_rf))\n"
   ]
  },
  {
   "cell_type": "markdown",
   "metadata": {},
   "source": [
    "#### Support Vector Machine classifier"
   ]
  },
  {
   "cell_type": "code",
   "execution_count": 66,
   "metadata": {},
   "outputs": [
    {
     "name": "stdout",
     "output_type": "stream",
     "text": [
      "              precision    recall  f1-score   support\n",
      "\n",
      "         0.0       0.95      0.73      0.82       569\n",
      "         1.0       0.32      0.76      0.45        98\n",
      "\n",
      "    accuracy                           0.73       667\n",
      "   macro avg       0.63      0.74      0.64       667\n",
      "weighted avg       0.85      0.73      0.77       667\n",
      "\n"
     ]
    }
   ],
   "source": [
    "# training a vanilla support vector machine \n",
    "\n",
    "sv_clf = SVC(kernel='linear') \n",
    "  \n",
    "# Training the model on the training dataset\n",
    "\n",
    "sv_clf.fit(X_train_resampled, y_train_resampled)\n",
    "  \n",
    "# performing predictions on the test dataset\n",
    "y_test_pred_sv = sv_clf.predict(X_test_complete)\n",
    "\n",
    "print(classification_report(y_test,y_test_pred_sv))"
   ]
  },
  {
   "cell_type": "markdown",
   "metadata": {},
   "source": [
    "####  Adaboost classifier"
   ]
  },
  {
   "cell_type": "code",
   "execution_count": 67,
   "metadata": {},
   "outputs": [
    {
     "name": "stdout",
     "output_type": "stream",
     "text": [
      "              precision    recall  f1-score   support\n",
      "\n",
      "         0.0       0.93      0.90      0.91       569\n",
      "         1.0       0.50      0.58      0.54        98\n",
      "\n",
      "    accuracy                           0.85       667\n",
      "   macro avg       0.72      0.74      0.73       667\n",
      "weighted avg       0.86      0.85      0.86       667\n",
      "\n"
     ]
    }
   ],
   "source": [
    "ada_clf = AdaBoostClassifier()\n",
    "  \n",
    "# Training the model on the training dataset\n",
    "\n",
    "ada_clf.fit(X_train_resampled, y_train_resampled)\n",
    "  \n",
    "# performing predictions on the test dataset\n",
    "y_test_pred_ada = ada_clf.predict(X_test_complete)\n",
    "\n",
    "print(classification_report(y_test,y_test_pred_ada))"
   ]
  },
  {
   "cell_type": "markdown",
   "metadata": {},
   "source": [
    "#### Xgboost classifier "
   ]
  },
  {
   "cell_type": "code",
   "execution_count": 68,
   "metadata": {},
   "outputs": [
    {
     "name": "stdout",
     "output_type": "stream",
     "text": [
      "              precision    recall  f1-score   support\n",
      "\n",
      "         0.0       0.96      0.97      0.97       569\n",
      "         1.0       0.83      0.74      0.78        98\n",
      "\n",
      "    accuracy                           0.94       667\n",
      "   macro avg       0.89      0.86      0.88       667\n",
      "weighted avg       0.94      0.94      0.94       667\n",
      "\n"
     ]
    }
   ],
   "source": [
    "# XgBoost classifier \n",
    "\n",
    "xg_clf = XGBClassifier()\n",
    "  \n",
    "# Training the model on the training dataset\n",
    "\n",
    "xg_clf.fit(X_train_resampled, y_train_resampled)\n",
    "  \n",
    "# performing predictions on the test dataset\n",
    "y_test_pred_xg = xg_clf.predict(X_test_complete)\n",
    "\n",
    "print(classification_report(y_test,y_test_pred_xg))\n"
   ]
  },
  {
   "cell_type": "markdown",
   "metadata": {},
   "source": [
    "### Model Tuning "
   ]
  },
  {
   "cell_type": "markdown",
   "metadata": {},
   "source": [
    "The best two best models will be tuned to check whether they can increase performance "
   ]
  },
  {
   "cell_type": "markdown",
   "metadata": {},
   "source": [
    "#### Tuning the random forest classifier "
   ]
  },
  {
   "cell_type": "code",
   "execution_count": 69,
   "metadata": {},
   "outputs": [
    {
     "data": {
      "text/plain": [
       "{'max_depth': 9,\n",
       " 'max_features': 'sqrt',\n",
       " 'max_leaf_nodes': 9,\n",
       " 'n_estimators': 100}"
      ]
     },
     "execution_count": 69,
     "metadata": {},
     "output_type": "execute_result"
    }
   ],
   "source": [
    "# tuning the model with different parameters \n",
    "\n",
    "grid_search_rf = RandomForestClassifier()\n",
    "\n",
    "param_grid = {\n",
    "    'n_estimators': [25, 50, 100, 150],\n",
    "    'max_features': ['sqrt', 'log2', None],\n",
    "    'max_depth': [3, 6, 9],\n",
    "    'max_leaf_nodes': [3, 6, 9],\n",
    "}\n",
    "\n",
    "tuned_rf = GridSearchCV(grid_search_rf, param_grid, cv=3)\n",
    "tuned_rf.fit(X_train_resampled, y_train_resampled)\n",
    "\n",
    "tuned_rf.best_params_"
   ]
  },
  {
   "cell_type": "code",
   "execution_count": 70,
   "metadata": {},
   "outputs": [
    {
     "name": "stdout",
     "output_type": "stream",
     "text": [
      "              precision    recall  f1-score   support\n",
      "\n",
      "         0.0       0.96      0.85      0.91       569\n",
      "         1.0       0.49      0.81      0.61        98\n",
      "\n",
      "    accuracy                           0.85       667\n",
      "   macro avg       0.73      0.83      0.76       667\n",
      "weighted avg       0.89      0.85      0.86       667\n",
      "\n"
     ]
    }
   ],
   "source": [
    "# Updating parameters for the tuned model\n",
    "\n",
    "tuned_random_clf = RandomForestClassifier(max_depth=9,\n",
    "                                    max_features=\"sqrt\",\n",
    "                                    max_leaf_nodes=9,\n",
    "                                    n_estimators=100)\n",
    "tuned_random_clf.fit(X_train_resampled, y_train_resampled)\n",
    "y_pred_rf_tuned = tuned_random_clf.predict(X_test_complete)\n",
    "print(classification_report(y_test,y_pred_rf_tuned ))"
   ]
  },
  {
   "cell_type": "markdown",
   "metadata": {},
   "source": [
    "#### Tuning Xgboost classsifier"
   ]
  },
  {
   "cell_type": "code",
   "execution_count": 74,
   "metadata": {},
   "outputs": [
    {
     "data": {
      "text/plain": [
       "{'learning_rate': 0.2, 'max_depth': 10, 'n_estimators': 750}"
      ]
     },
     "execution_count": 74,
     "metadata": {},
     "output_type": "execute_result"
    }
   ],
   "source": [
    "# tuning model with different hyperameters \n",
    "\n",
    "grid_search_xg = XGBClassifier()\n",
    "\n",
    "param_grid = {'max_depth': [3, 6, 10, 15],\n",
    "              'learning_rate': [0.01, 0.1, 0.2, 0.3, 0.4],\n",
    "              'n_estimators': [100, 250, 500, 750]\n",
    "              }\n",
    "\n",
    "tuned_xg = GridSearchCV(grid_search_xg, param_grid, cv=3)\n",
    "tuned_xg.fit(X_train_resampled, y_train_resampled)\n",
    "\n",
    "tuned_xg.best_params_"
   ]
  },
  {
   "cell_type": "code",
   "execution_count": 81,
   "metadata": {},
   "outputs": [
    {
     "name": "stdout",
     "output_type": "stream",
     "text": [
      "              precision    recall  f1-score   support\n",
      "\n",
      "         0.0       0.96      0.97      0.97       569\n",
      "         1.0       0.83      0.79      0.81        98\n",
      "\n",
      "    accuracy                           0.94       667\n",
      "   macro avg       0.90      0.88      0.89       667\n",
      "weighted avg       0.94      0.94      0.94       667\n",
      "\n"
     ]
    }
   ],
   "source": [
    "# updating parameters for tuned xgboost model\n",
    "\n",
    "xg_clf_tuned = XGBClassifier(max_depth=10, n_estimators = 750, learning_rate = 0.2)\n",
    "  \n",
    "# Training the model on the training dataset\n",
    "\n",
    "xg_clf_tuned.fit(X_train_resampled, y_train_resampled)\n",
    "  \n",
    "# performing predictions on the test dataset\n",
    "y_test_pred_xg_tuned = xg_clf_tuned.predict(X_test_complete)\n",
    "\n",
    "print(classification_report(y_test,y_test_pred_xg_tuned))\n"
   ]
  },
  {
   "cell_type": "markdown",
   "metadata": {},
   "source": [
    "---"
   ]
  },
  {
   "cell_type": "markdown",
   "metadata": {},
   "source": [
    "<font size=\"5\"> EVALUATION </font>"
   ]
  },
  {
   "cell_type": "markdown",
   "metadata": {},
   "source": [
    "---"
   ]
  },
  {
   "cell_type": "markdown",
   "metadata": {},
   "source": [
    "### Choosing the final model "
   ]
  },
  {
   "cell_type": "markdown",
   "metadata": {},
   "source": [
    "\n",
    "Although hyperparameter tuning is an important step in the machine learning process, it does not a guarantee of finding the best model. This may be due to overfitting when the model fits too closely to the training data and performs poorly on unseen data. Overfitting can occur even with optimal hyperparameters if the model is too complex for the data, so it's important to balance model complexity and performance.\n",
    "\n",
    "\n",
    "Different metrics are considered when choosing a classifier in machine learning because each metric measures a different aspect of the performance of the classifier and thus provides a different perspective on its effectiveness. The choice of metric depends on the problem's characteristics and the objective of the classification task. In this case, the main objective is to capture the churning customers reasonably enough. \n",
    "The following confusion matrixes for each of the two best models **'vanilla' random forest model** and the **tuned xgboost classifier** summarize the performance of the models on **unseen data**.\n",
    "\n",
    ">> In this case, **capturing churning customers** is of great importance as losing customers equits to losing business. **The model with the highest recall and prediction accuracy score will be chosen as the final model** as it will optimize the business problem"
   ]
  },
  {
   "cell_type": "markdown",
   "metadata": {},
   "source": [
    "#### Vanilla Random Forest Model"
   ]
  },
  {
   "cell_type": "code",
   "execution_count": 78,
   "metadata": {},
   "outputs": [
    {
     "name": "stdout",
     "output_type": "stream",
     "text": [
      "Accuracy: 0.9355322338830585\n",
      "Precision: 0.7722772277227723\n",
      "Recall: 0.7959183673469388\n",
      "f1_score: 0.7839195979899498\n"
     ]
    }
   ],
   "source": [
    "# perfomance metrics for the model on the test data \n",
    "\n",
    "print(f\"Accuracy:\" ,accuracy_score(y_test, y_test_pred_rf))\n",
    "print(f\"Precision:\" ,precision_score(y_test, y_test_pred_rf))\n",
    "print(f\"Recall:\", recall_score(y_test, y_test_pred_rf))\n",
    "print(f\"f1_score:\", f1_score(y_test, y_test_pred_rf))"
   ]
  },
  {
   "cell_type": "code",
   "execution_count": 80,
   "metadata": {},
   "outputs": [
    {
     "data": {
      "image/png": "[encoded data removed]",
      "text/plain": [
       "<Figure size 864x720 with 2 Axes>"
      ]
     },
     "metadata": {
      "needs_background": "light"
     },
     "output_type": "display_data"
    }
   ],
   "source": [
    "# confusion matrix for the model \n",
    "\n",
    "confus_matrix_rf= confusion_matrix(y_test, y_test_pred_rf )\n",
    "\n",
    "plt.figure(figsize= (12,10))\n",
    "ax= plt.subplot()\n",
    "sns.heatmap(confus_matrix_rf , annot=True, fmt='g', ax=ax, linewidth =0.2, cmap='Blues');  \n",
    "# labels, title and ticks\n",
    "ax.set_xlabel('Predicted labels');ax.set_ylabel('True labels'); \n",
    "ax.set_title('Random Forest Model'); \n",
    "ax.xaxis.set_ticklabels(['Non-Churn', 'Churn']); ax.yaxis.set_ticklabels(['Non- Churn', 'Churn']);"
   ]
  },
  {
   "cell_type": "markdown",
   "metadata": {},
   "source": [
    "#### Tuned XgBoost Classifier"
   ]
  },
  {
   "cell_type": "code",
   "execution_count": 83,
   "metadata": {},
   "outputs": [
    {
     "name": "stdout",
     "output_type": "stream",
     "text": [
      "Accuracy: 0.9445277361319341\n",
      "Precision: 0.8279569892473119\n",
      "Recall: 0.7857142857142857\n",
      "f1_score: 0.806282722513089\n"
     ]
    }
   ],
   "source": [
    "# perfomance metrics for the model on the test data \n",
    "\n",
    "print(f\"Accuracy:\" ,accuracy_score(y_test, y_test_pred_xg_tuned))\n",
    "print(f\"Precision:\" ,precision_score(y_test, y_test_pred_xg_tuned))\n",
    "print(f\"Recall:\", recall_score(y_test, y_test_pred_xg_tuned))\n",
    "print(f\"f1_score:\", f1_score(y_test, y_test_pred_xg_tuned))"
   ]
  },
  {
   "cell_type": "code",
   "execution_count": 90,
   "metadata": {},
   "outputs": [
    {
     "data": {
      "image/png": "[encoded data removed]",
      "text/plain": [
       "<Figure size 864x720 with 2 Axes>"
      ]
     },
     "metadata": {
      "needs_background": "light"
     },
     "output_type": "display_data"
    }
   ],
   "source": [
    "# confusion matrix \n",
    "confus_matrix_xg_tuned = confusion_matrix(y_test, y_test_pred_xg_tuned)\n",
    "\n",
    "plt.figure(figsize= (12,10))\n",
    "ax= plt.subplot()\n",
    "sns.heatmap(confus_matrix_xg_tuned , annot=True, fmt='g', ax=ax, linewidth =0.2, cmap='Reds');  \n",
    "# labels, title and ticks\n",
    "ax.set_xlabel('Predicted labels');ax.set_ylabel('True labels'); \n",
    "ax.set_title('Xgboost model'); \n",
    "ax.xaxis.set_ticklabels(['Non-Churn', 'Churn']); ax.yaxis.set_ticklabels(['Non- Churn', 'Churn']);"
   ]
  },
  {
   "cell_type": "markdown",
   "metadata": {},
   "source": [
    "In line with the **main objective and the metric for success**, the **tuned xgBoost classifier** `xg_clf_tuned` will be selected for use as the **final model** that will be used in production. From the confusion matrix, tuned xgBoost classifiercaptures very well churning customers while at the same predicting quite well on the non-churning customer as it has a **recall of 79 % and an overall good accuracy of 94 %** . The non-tuned random forest has an **equally good recall of 80 % percent but has a slightly lower overall accuracy of 93% meaning that it will may misclassify more of the non-churn customers as churn. Additionally, the XgBoost classifier has a greater f1 score of 80% compared to the random forests f1 score of 78%**. A lower f1 score is not an ideal situation as it would mean that many non-churning customers would be flagged as churning customers leading to wastage of resources. The XgBoost classifier does a considerably good job not misclassifying non-churning customers as churning customers.\n",
    "\n",
    "> Accuracy is defined as the proportion of correct predictions out of all predictions made. In the case of a customer churn prediction model, **accuracy would mean the proportion of customers that the model correctly predicted to either churn or not churn**.**A 94% accuracy means that the model is able to correctly predict churn or not churn for 94% of the customers in the test data**. However, accuracy is a measure of a model's overall performance and doesn't provide any insight into the individual types of errors the model is making.For example, if a model has high accuracy but is constantly predicting that a customer won't churn when they actually do, it may not be very useful in solving the problem at hand. On the other hand, **recall is a metric that measures the ability of a model to identify all relevant positive examples**. In the case of customer churn prediction, **recall would be the proportion of customers that actually churned that the model correctly predicted to churn. A recall of 79%  for the random forest model means that it correctly predicted 79% of the customers who actually churned. This is an important metric for a customer churn prediction model because it helps us understand the model's ability to identify customers who are likely to churn.**\n",
    "\n",
    "> **accuracy gives us an overall picture of the model's performance, recall provides a more targeted understanding of the model's ability to identify customers who are likely to churn. **A high recall indicates that the model is able to identify a large proportion of the customers who are likely to churn, which is important for taking appropriate action to prevent churn.**\n",
    "\n",
    "> There is always a **tradeoff between precision and recall.** In this case, **a model with high recall focuses more on flagging churning customers even if it means flagging non-churning customers as churning customer**. According to the business problem **it would be better to flag a non-churning customer as churning customer than miss on flagging a churning customer and losing the customer. "
   ]
  },
  {
   "cell_type": "markdown",
   "metadata": {},
   "source": [
    "# Pickling Random Forest model for use in production enviroment"
   ]
  },
  {
   "cell_type": "code",
   "execution_count": 86,
   "metadata": {},
   "outputs": [],
   "source": [
    "with open('customerchurn_model.pkl', 'wb') as f:\n",
    "    joblib.dump(xg_clf_tuned, f)"
   ]
  },
  {
   "cell_type": "markdown",
   "metadata": {},
   "source": [
    "### Variable importance "
   ]
  },
  {
   "cell_type": "code",
   "execution_count": 88,
   "metadata": {},
   "outputs": [
    {
     "data": {
      "image/png": "[encoded data removed]",
      "text/plain": [
       "<Figure size 864x720 with 1 Axes>"
      ]
     },
     "metadata": {
      "needs_background": "light"
     },
     "output_type": "display_data"
    }
   ],
   "source": [
    "perm_importance = permutation_importance(xg_clf_tuned, X_test_complete, y_test)\n",
    "sorted_idx = perm_importance.importances_mean.argsort()\n",
    "plt.figure(figsize=(12,10))\n",
    "plt.barh(X_test_complete.columns[sorted_idx], perm_importance.importances_mean[sorted_idx], color=\"green\")\n",
    "plt.xlabel(\"Permutation Importance\")\n",
    "plt.title('Variable importance');"
   ]
  },
  {
   "cell_type": "markdown",
   "metadata": {},
   "source": [
    "From the variable importance plot, it is very evident that the most important predictors of whether an customer or not include **totol day minutes, total night minutes and total eve minutes**. From the variable importance plot, it is also very evident that the another important predictor of whether an customer or not is **customer service calls**. **Customer service calls** are an important part of a business because they provide an opportunity to interact directly with customers and address their needs and concerns. This interaction can have a significant impact on the customer experience and their overall satisfaction with the company and its products or services.\n",
    "Another important predictor is whether a customer has **international plan** or not. Customers who do not have international plan are more likely to churn that customers with an international plan. Today day charge is another important predictor as well as total day minutes. **Voice mail plan** is another good predictor of a persons decision to churn or not churn. It is evident from analysis that people with Voice mail plan are less likely to churn compared to people do not have a voice mail plan."
   ]
  },
  {
   "cell_type": "markdown",
   "metadata": {},
   "source": [
    "# Limitations "
   ]
  },
  {
   "cell_type": "markdown",
   "metadata": {},
   "source": [
    "As a popular machine learning says **'All models are wrong , but some are useful'**, the chosen model is not a silver bullet in correctly classifying churning and non churning customers. However, the model does a brilliant job in capturing well the churning customers. On the flip-side, making correct classifications on churning customers comes at a cost where more non-churning customers are misclassified as churning customers. This can often mean **that resources to retain may be channeled towards a non-churning customer when there is no need**.  "
   ]
  },
  {
   "cell_type": "markdown",
   "metadata": {},
   "source": [
    "# Challenging  the solution "
   ]
  },
  {
   "cell_type": "markdown",
   "metadata": {},
   "source": [
    "Collecting data on about **customers age, gender could have the potential of increasing the models accuracy**.This is because such **demographic data provide rich information** that could be useful in providing the model with extra information to correctly predict whether a customer will churn or not "
   ]
  },
  {
   "cell_type": "markdown",
   "metadata": {},
   "source": [
    "# Recommendations "
   ]
  },
  {
   "cell_type": "markdown",
   "metadata": {},
   "source": [
    "&#9677; There should be more emphasis on customer service calls as they can ultimately determine if a customer will churn or not. Customer calls are important because of the following reasons.\n",
    "\n",
    "* Customer Retention: Good customer service can improve customer satisfaction and help to retain customers. Satisfied customers are more likely to continue doing business with a company and recommend it to others.\n",
    "\n",
    "* Problem Resolution: Customer service calls provide a way for customers to quickly and easily resolve problems or get answers to questions about products or services. This can improve customer satisfaction and reduce frustration.\n",
    "\n",
    "* Feedback: Customer service calls can provide valuable feedback to a company about its products, services, and customer experience. This feedback can be used to improve the customer experience and make changes that benefit both the company and its customers.\n",
    "\n",
    "* Reputation Management: Good customer service can help to build and maintain a positive reputation for a company, while poor customer service can harm its reputation and negatively impact its brand.\n",
    "\n",
    "&#9677; There should also be a strong emphasis on marketing and pricing to ensure that customers can opt into international plan as there is evidence that customers who have international are less likely to churn compared to those who do not have such a plan\n",
    "\n",
    "&#9677; Review of marketing and pricing strategies to have more customers opt into the voice mail plan could also have the potential ensuring that a customer does not churn quickly as customers who do not have a voicemail  are five times likely to churn than people who have a voicemail plan\n",
    "\n",
    "&#9677; Review of marketing and pricing policies to ensure that customers enjoy favourable offers when making calls \n",
    "\n",
    "&#9677; Consideration of collecting more demographic data on customers such as age and gender as it would provide extra information that the predictive model can use in identifying if a customer will churn or not "
   ]
  }
 ],
 "metadata": {
  "kernelspec": {
   "display_name": "Python (learn-env)",
   "language": "python",
   "name": "learn-env"
  },
  "language_info": {
   "codemirror_mode": {
    "name": "ipython",
    "version": 3
   },
   "file_extension": ".py",
   "mimetype": "text/x-python",
   "name": "python",
   "nbconvert_exporter": "python",
   "pygments_lexer": "ipython3",
   "version": "3.8.5"
  },
  "varInspector": {
   "cols": {
    "lenName": 16,
    "lenType": 16,
    "lenVar": 40
   },
   "kernels_config": {
    "python": {
     "delete_cmd_postfix": "",
     "delete_cmd_prefix": "del ",
     "library": "var_list.py",
     "varRefreshCmd": "print(var_dic_list())"
    },
    "r": {
     "delete_cmd_postfix": ") ",
     "delete_cmd_prefix": "rm(",
     "library": "var_list.r",
     "varRefreshCmd": "cat(var_dic_list()) "
    }
   },
   "types_to_exclude": [
    "module",
    "function",
    "builtin_function_or_method",
    "instance",
    "_Feature"
   ],
   "window_display": false
  }
 },
 "nbformat": 4,
 "nbformat_minor": 4
}
